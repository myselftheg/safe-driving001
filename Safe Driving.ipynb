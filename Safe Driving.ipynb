{
 "cells": [
  {
   "cell_type": "code",
   "execution_count": 4,
   "metadata": {},
   "outputs": [],
   "source": [
    "import pandas as pd\n",
    "import os\n",
    "\n",
    "from sklearn.manifold import TSNE\n",
    "from sklearn.decomposition import PCA\n",
    "from sklearn.preprocessing import StandardScaler\n",
    "\n",
    "import numpy as np\n",
    "from sklearn.model_selection import train_test_split\n",
    "import seaborn as sns\n",
    "import matplotlib.pyplot as plt"
   ]
  },
  {
   "cell_type": "code",
   "execution_count": 5,
   "metadata": {},
   "outputs": [],
   "source": [
    "path = r'C:\\Users\\mysel\\OneDrive\\Documents\\Kaggle\\train.csv'"
   ]
  },
  {
   "cell_type": "code",
   "execution_count": 6,
   "metadata": {},
   "outputs": [
    {
     "name": "stdout",
     "output_type": "stream",
     "text": [
      "   id  target  ps_ind_01  ps_ind_02_cat  ps_ind_03  ps_ind_04_cat  \\\n",
      "0   7       0          2              2          5              1   \n",
      "1   9       0          1              1          7              0   \n",
      "2  13       0          5              4          9              1   \n",
      "3  16       0          0              1          2              0   \n",
      "4  17       0          0              2          0              1   \n",
      "\n",
      "   ps_ind_05_cat  ps_ind_06_bin  ps_ind_07_bin  ps_ind_08_bin  ...  \\\n",
      "0              0              0              1              0  ...   \n",
      "1              0              0              0              1  ...   \n",
      "2              0              0              0              1  ...   \n",
      "3              0              1              0              0  ...   \n",
      "4              0              1              0              0  ...   \n",
      "\n",
      "   ps_calc_11  ps_calc_12  ps_calc_13  ps_calc_14  ps_calc_15_bin  \\\n",
      "0           9           1           5           8               0   \n",
      "1           3           1           1           9               0   \n",
      "2           4           2           7           7               0   \n",
      "3           2           2           4           9               0   \n",
      "4           3           1           1           3               0   \n",
      "\n",
      "   ps_calc_16_bin  ps_calc_17_bin  ps_calc_18_bin  ps_calc_19_bin  \\\n",
      "0               1               1               0               0   \n",
      "1               1               1               0               1   \n",
      "2               1               1               0               1   \n",
      "3               0               0               0               0   \n",
      "4               0               0               1               1   \n",
      "\n",
      "   ps_calc_20_bin  \n",
      "0               1  \n",
      "1               0  \n",
      "2               0  \n",
      "3               0  \n",
      "4               0  \n",
      "\n",
      "[5 rows x 59 columns]\n",
      "(595212, 59)\n"
     ]
    }
   ],
   "source": [
    "train = pd.read_csv(os.path.join(path, 'train.csv'))\n",
    "\n",
    "print(train.head())\n",
    "\n",
    "print(train.shape)\n",
    "\n",
    "inputs = train.columns.tolist()\n",
    "inputs.remove('target')"
   ]
  },
  {
   "cell_type": "code",
   "execution_count": 7,
   "metadata": {},
   "outputs": [
    {
     "name": "stdout",
     "output_type": "stream",
     "text": [
      "Index(['id', 'target', 'ps_ind_01', 'ps_ind_02_cat', 'ps_ind_03',\n",
      "       'ps_ind_04_cat', 'ps_ind_05_cat', 'ps_ind_06_bin', 'ps_ind_07_bin',\n",
      "       'ps_ind_08_bin', 'ps_ind_09_bin', 'ps_ind_10_bin', 'ps_ind_11_bin',\n",
      "       'ps_ind_12_bin', 'ps_ind_13_bin', 'ps_ind_14', 'ps_ind_15',\n",
      "       'ps_ind_16_bin', 'ps_ind_17_bin', 'ps_ind_18_bin', 'ps_reg_01',\n",
      "       'ps_reg_02', 'ps_reg_03', 'ps_car_01_cat', 'ps_car_02_cat',\n",
      "       'ps_car_03_cat', 'ps_car_04_cat', 'ps_car_05_cat', 'ps_car_06_cat',\n",
      "       'ps_car_07_cat', 'ps_car_08_cat', 'ps_car_09_cat', 'ps_car_10_cat',\n",
      "       'ps_car_11_cat', 'ps_car_11', 'ps_car_12', 'ps_car_13', 'ps_car_14',\n",
      "       'ps_car_15', 'ps_calc_01', 'ps_calc_02', 'ps_calc_03', 'ps_calc_04',\n",
      "       'ps_calc_05', 'ps_calc_06', 'ps_calc_07', 'ps_calc_08', 'ps_calc_09',\n",
      "       'ps_calc_10', 'ps_calc_11', 'ps_calc_12', 'ps_calc_13', 'ps_calc_14',\n",
      "       'ps_calc_15_bin', 'ps_calc_16_bin', 'ps_calc_17_bin', 'ps_calc_18_bin',\n",
      "       'ps_calc_19_bin', 'ps_calc_20_bin'],\n",
      "      dtype='object')\n"
     ]
    }
   ],
   "source": [
    "print(train.columns)"
   ]
  },
  {
   "cell_type": "markdown",
   "metadata": {},
   "source": [
    "### Assign Missing Values as NaN"
   ]
  },
  {
   "cell_type": "code",
   "execution_count": 8,
   "metadata": {},
   "outputs": [
    {
     "data": {
      "text/html": [
       "<div>\n",
       "<style scoped>\n",
       "    .dataframe tbody tr th:only-of-type {\n",
       "        vertical-align: middle;\n",
       "    }\n",
       "\n",
       "    .dataframe tbody tr th {\n",
       "        vertical-align: top;\n",
       "    }\n",
       "\n",
       "    .dataframe thead th {\n",
       "        text-align: right;\n",
       "    }\n",
       "</style>\n",
       "<table border=\"1\" class=\"dataframe\">\n",
       "  <thead>\n",
       "    <tr style=\"text-align: right;\">\n",
       "      <th></th>\n",
       "      <th>id</th>\n",
       "      <th>target</th>\n",
       "      <th>ps_ind_01</th>\n",
       "      <th>ps_ind_02_cat</th>\n",
       "      <th>ps_ind_03</th>\n",
       "      <th>ps_ind_04_cat</th>\n",
       "      <th>ps_ind_05_cat</th>\n",
       "      <th>ps_ind_06_bin</th>\n",
       "      <th>ps_ind_07_bin</th>\n",
       "      <th>ps_ind_08_bin</th>\n",
       "      <th>...</th>\n",
       "      <th>ps_calc_11</th>\n",
       "      <th>ps_calc_12</th>\n",
       "      <th>ps_calc_13</th>\n",
       "      <th>ps_calc_14</th>\n",
       "      <th>ps_calc_15_bin</th>\n",
       "      <th>ps_calc_16_bin</th>\n",
       "      <th>ps_calc_17_bin</th>\n",
       "      <th>ps_calc_18_bin</th>\n",
       "      <th>ps_calc_19_bin</th>\n",
       "      <th>ps_calc_20_bin</th>\n",
       "    </tr>\n",
       "  </thead>\n",
       "  <tbody>\n",
       "    <tr>\n",
       "      <th>847</th>\n",
       "      <td>2210</td>\n",
       "      <td>0</td>\n",
       "      <td>5</td>\n",
       "      <td>-1</td>\n",
       "      <td>0</td>\n",
       "      <td>-1</td>\n",
       "      <td>-1</td>\n",
       "      <td>0</td>\n",
       "      <td>1</td>\n",
       "      <td>0</td>\n",
       "      <td>...</td>\n",
       "      <td>5</td>\n",
       "      <td>2</td>\n",
       "      <td>2</td>\n",
       "      <td>9</td>\n",
       "      <td>0</td>\n",
       "      <td>0</td>\n",
       "      <td>0</td>\n",
       "      <td>0</td>\n",
       "      <td>0</td>\n",
       "      <td>0</td>\n",
       "    </tr>\n",
       "    <tr>\n",
       "      <th>11840</th>\n",
       "      <td>29812</td>\n",
       "      <td>0</td>\n",
       "      <td>0</td>\n",
       "      <td>-1</td>\n",
       "      <td>8</td>\n",
       "      <td>0</td>\n",
       "      <td>0</td>\n",
       "      <td>0</td>\n",
       "      <td>0</td>\n",
       "      <td>0</td>\n",
       "      <td>...</td>\n",
       "      <td>6</td>\n",
       "      <td>1</td>\n",
       "      <td>3</td>\n",
       "      <td>9</td>\n",
       "      <td>0</td>\n",
       "      <td>0</td>\n",
       "      <td>1</td>\n",
       "      <td>1</td>\n",
       "      <td>0</td>\n",
       "      <td>0</td>\n",
       "    </tr>\n",
       "    <tr>\n",
       "      <th>13670</th>\n",
       "      <td>34370</td>\n",
       "      <td>0</td>\n",
       "      <td>5</td>\n",
       "      <td>-1</td>\n",
       "      <td>0</td>\n",
       "      <td>-1</td>\n",
       "      <td>-1</td>\n",
       "      <td>0</td>\n",
       "      <td>0</td>\n",
       "      <td>1</td>\n",
       "      <td>...</td>\n",
       "      <td>4</td>\n",
       "      <td>0</td>\n",
       "      <td>1</td>\n",
       "      <td>6</td>\n",
       "      <td>0</td>\n",
       "      <td>1</td>\n",
       "      <td>0</td>\n",
       "      <td>0</td>\n",
       "      <td>0</td>\n",
       "      <td>0</td>\n",
       "    </tr>\n",
       "    <tr>\n",
       "      <th>13804</th>\n",
       "      <td>34695</td>\n",
       "      <td>0</td>\n",
       "      <td>0</td>\n",
       "      <td>-1</td>\n",
       "      <td>0</td>\n",
       "      <td>-1</td>\n",
       "      <td>-1</td>\n",
       "      <td>1</td>\n",
       "      <td>0</td>\n",
       "      <td>0</td>\n",
       "      <td>...</td>\n",
       "      <td>5</td>\n",
       "      <td>2</td>\n",
       "      <td>1</td>\n",
       "      <td>4</td>\n",
       "      <td>0</td>\n",
       "      <td>1</td>\n",
       "      <td>0</td>\n",
       "      <td>0</td>\n",
       "      <td>1</td>\n",
       "      <td>0</td>\n",
       "    </tr>\n",
       "    <tr>\n",
       "      <th>14002</th>\n",
       "      <td>35176</td>\n",
       "      <td>0</td>\n",
       "      <td>0</td>\n",
       "      <td>-1</td>\n",
       "      <td>7</td>\n",
       "      <td>0</td>\n",
       "      <td>6</td>\n",
       "      <td>0</td>\n",
       "      <td>1</td>\n",
       "      <td>0</td>\n",
       "      <td>...</td>\n",
       "      <td>2</td>\n",
       "      <td>2</td>\n",
       "      <td>1</td>\n",
       "      <td>9</td>\n",
       "      <td>0</td>\n",
       "      <td>1</td>\n",
       "      <td>1</td>\n",
       "      <td>0</td>\n",
       "      <td>1</td>\n",
       "      <td>0</td>\n",
       "    </tr>\n",
       "  </tbody>\n",
       "</table>\n",
       "<p>5 rows × 59 columns</p>\n",
       "</div>"
      ],
      "text/plain": [
       "          id  target  ps_ind_01  ps_ind_02_cat  ps_ind_03  ps_ind_04_cat  \\\n",
       "847     2210       0          5             -1          0             -1   \n",
       "11840  29812       0          0             -1          8              0   \n",
       "13670  34370       0          5             -1          0             -1   \n",
       "13804  34695       0          0             -1          0             -1   \n",
       "14002  35176       0          0             -1          7              0   \n",
       "\n",
       "       ps_ind_05_cat  ps_ind_06_bin  ps_ind_07_bin  ps_ind_08_bin  ...  \\\n",
       "847               -1              0              1              0  ...   \n",
       "11840              0              0              0              0  ...   \n",
       "13670             -1              0              0              1  ...   \n",
       "13804             -1              1              0              0  ...   \n",
       "14002              6              0              1              0  ...   \n",
       "\n",
       "       ps_calc_11  ps_calc_12  ps_calc_13  ps_calc_14  ps_calc_15_bin  \\\n",
       "847             5           2           2           9               0   \n",
       "11840           6           1           3           9               0   \n",
       "13670           4           0           1           6               0   \n",
       "13804           5           2           1           4               0   \n",
       "14002           2           2           1           9               0   \n",
       "\n",
       "       ps_calc_16_bin  ps_calc_17_bin  ps_calc_18_bin  ps_calc_19_bin  \\\n",
       "847                 0               0               0               0   \n",
       "11840               0               1               1               0   \n",
       "13670               1               0               0               0   \n",
       "13804               1               0               0               1   \n",
       "14002               1               1               0               1   \n",
       "\n",
       "       ps_calc_20_bin  \n",
       "847                 0  \n",
       "11840               0  \n",
       "13670               0  \n",
       "13804               0  \n",
       "14002               0  \n",
       "\n",
       "[5 rows x 59 columns]"
      ]
     },
     "execution_count": 8,
     "metadata": {},
     "output_type": "execute_result"
    }
   ],
   "source": [
    "train[train.iloc[:, 3] == -1].head()"
   ]
  },
  {
   "cell_type": "code",
   "execution_count": 9,
   "metadata": {},
   "outputs": [],
   "source": [
    "train = train.replace(-1, np.NaN)"
   ]
  },
  {
   "cell_type": "markdown",
   "metadata": {},
   "source": [
    "### Convert Categorical Data type as Object"
   ]
  },
  {
   "cell_type": "markdown",
   "metadata": {},
   "source": [
    "Filter numerical,  categorical and bin variables from the dataset<br>\n",
    "1. As per the problem statement, columns with 'cat' in the column names are categorical, \n",
    "2. Columns with 'bin' in the column names are binary variables\n",
    "3. Remaining variables are either numeric or ordinal variables (I'll start by treating all remainig variables as numeric and change the approach after I see something in my data to break my assumption.\n"
   ]
  },
  {
   "cell_type": "code",
   "execution_count": 14,
   "metadata": {},
   "outputs": [
    {
     "name": "stdout",
     "output_type": "stream",
     "text": [
      "[False, False, False, True, False, True, True, False, False, False, False, False, False, False, False, False, False, False, False, False, False, False, False, True, True, True, True, True, True, True, True, True, True, True, False, False, False, False, False, False, False, False, False, False, False, False, False, False, False, False, False, False, False, False, False, False, False, False, False]\n"
     ]
    }
   ],
   "source": [
    "cat_mask = ['cat' in x for x in train.columns]\n",
    "print(cat_mask)"
   ]
  },
  {
   "cell_type": "code",
   "execution_count": 15,
   "metadata": {},
   "outputs": [
    {
     "name": "stdout",
     "output_type": "stream",
     "text": [
      "['ps_ind_02_cat', 'ps_ind_04_cat', 'ps_ind_05_cat', 'ps_car_01_cat', 'ps_car_02_cat', 'ps_car_03_cat', 'ps_car_04_cat', 'ps_car_05_cat', 'ps_car_06_cat', 'ps_car_07_cat', 'ps_car_08_cat', 'ps_car_09_cat', 'ps_car_10_cat', 'ps_car_11_cat']\n"
     ]
    },
    {
     "data": {
      "text/html": [
       "<div>\n",
       "<style scoped>\n",
       "    .dataframe tbody tr th:only-of-type {\n",
       "        vertical-align: middle;\n",
       "    }\n",
       "\n",
       "    .dataframe tbody tr th {\n",
       "        vertical-align: top;\n",
       "    }\n",
       "\n",
       "    .dataframe thead th {\n",
       "        text-align: right;\n",
       "    }\n",
       "</style>\n",
       "<table border=\"1\" class=\"dataframe\">\n",
       "  <thead>\n",
       "    <tr style=\"text-align: right;\">\n",
       "      <th></th>\n",
       "      <th>ps_ind_02_cat</th>\n",
       "      <th>ps_ind_04_cat</th>\n",
       "      <th>ps_ind_05_cat</th>\n",
       "      <th>ps_car_01_cat</th>\n",
       "      <th>ps_car_02_cat</th>\n",
       "      <th>ps_car_03_cat</th>\n",
       "      <th>ps_car_04_cat</th>\n",
       "      <th>ps_car_05_cat</th>\n",
       "      <th>ps_car_06_cat</th>\n",
       "      <th>ps_car_07_cat</th>\n",
       "      <th>ps_car_08_cat</th>\n",
       "      <th>ps_car_09_cat</th>\n",
       "      <th>ps_car_10_cat</th>\n",
       "      <th>ps_car_11_cat</th>\n",
       "    </tr>\n",
       "  </thead>\n",
       "  <tbody>\n",
       "    <tr>\n",
       "      <th>0</th>\n",
       "      <td>2.0</td>\n",
       "      <td>1.0</td>\n",
       "      <td>0.0</td>\n",
       "      <td>10.0</td>\n",
       "      <td>1.0</td>\n",
       "      <td>nan</td>\n",
       "      <td>0</td>\n",
       "      <td>1.0</td>\n",
       "      <td>4</td>\n",
       "      <td>1.0</td>\n",
       "      <td>0</td>\n",
       "      <td>0.0</td>\n",
       "      <td>1</td>\n",
       "      <td>12</td>\n",
       "    </tr>\n",
       "    <tr>\n",
       "      <th>1</th>\n",
       "      <td>1.0</td>\n",
       "      <td>0.0</td>\n",
       "      <td>0.0</td>\n",
       "      <td>11.0</td>\n",
       "      <td>1.0</td>\n",
       "      <td>nan</td>\n",
       "      <td>0</td>\n",
       "      <td>nan</td>\n",
       "      <td>11</td>\n",
       "      <td>1.0</td>\n",
       "      <td>1</td>\n",
       "      <td>2.0</td>\n",
       "      <td>1</td>\n",
       "      <td>19</td>\n",
       "    </tr>\n",
       "    <tr>\n",
       "      <th>2</th>\n",
       "      <td>4.0</td>\n",
       "      <td>1.0</td>\n",
       "      <td>0.0</td>\n",
       "      <td>7.0</td>\n",
       "      <td>1.0</td>\n",
       "      <td>nan</td>\n",
       "      <td>0</td>\n",
       "      <td>nan</td>\n",
       "      <td>14</td>\n",
       "      <td>1.0</td>\n",
       "      <td>1</td>\n",
       "      <td>2.0</td>\n",
       "      <td>1</td>\n",
       "      <td>60</td>\n",
       "    </tr>\n",
       "    <tr>\n",
       "      <th>3</th>\n",
       "      <td>1.0</td>\n",
       "      <td>0.0</td>\n",
       "      <td>0.0</td>\n",
       "      <td>7.0</td>\n",
       "      <td>1.0</td>\n",
       "      <td>0.0</td>\n",
       "      <td>0</td>\n",
       "      <td>1.0</td>\n",
       "      <td>11</td>\n",
       "      <td>1.0</td>\n",
       "      <td>1</td>\n",
       "      <td>3.0</td>\n",
       "      <td>1</td>\n",
       "      <td>104</td>\n",
       "    </tr>\n",
       "    <tr>\n",
       "      <th>4</th>\n",
       "      <td>2.0</td>\n",
       "      <td>1.0</td>\n",
       "      <td>0.0</td>\n",
       "      <td>11.0</td>\n",
       "      <td>1.0</td>\n",
       "      <td>nan</td>\n",
       "      <td>0</td>\n",
       "      <td>nan</td>\n",
       "      <td>14</td>\n",
       "      <td>1.0</td>\n",
       "      <td>1</td>\n",
       "      <td>2.0</td>\n",
       "      <td>1</td>\n",
       "      <td>82</td>\n",
       "    </tr>\n",
       "  </tbody>\n",
       "</table>\n",
       "</div>"
      ],
      "text/plain": [
       "  ps_ind_02_cat ps_ind_04_cat ps_ind_05_cat ps_car_01_cat ps_car_02_cat  \\\n",
       "0           2.0           1.0           0.0          10.0           1.0   \n",
       "1           1.0           0.0           0.0          11.0           1.0   \n",
       "2           4.0           1.0           0.0           7.0           1.0   \n",
       "3           1.0           0.0           0.0           7.0           1.0   \n",
       "4           2.0           1.0           0.0          11.0           1.0   \n",
       "\n",
       "  ps_car_03_cat ps_car_04_cat ps_car_05_cat ps_car_06_cat ps_car_07_cat  \\\n",
       "0           nan             0           1.0             4           1.0   \n",
       "1           nan             0           nan            11           1.0   \n",
       "2           nan             0           nan            14           1.0   \n",
       "3           0.0             0           1.0            11           1.0   \n",
       "4           nan             0           nan            14           1.0   \n",
       "\n",
       "  ps_car_08_cat ps_car_09_cat ps_car_10_cat ps_car_11_cat  \n",
       "0             0           0.0             1            12  \n",
       "1             1           2.0             1            19  \n",
       "2             1           2.0             1            60  \n",
       "3             1           3.0             1           104  \n",
       "4             1           2.0             1            82  "
      ]
     },
     "execution_count": 15,
     "metadata": {},
     "output_type": "execute_result"
    }
   ],
   "source": [
    "cat_columns = list(train.columns[cat_mask])\n",
    "print(cat_columns)\n",
    "train[cat_columns].head()"
   ]
  },
  {
   "cell_type": "code",
   "execution_count": 20,
   "metadata": {},
   "outputs": [],
   "source": [
    "train[cat_columns] = train[cat_columns].astype(str)\n",
    "train[cat_columns] = train[cat_columns].replace('nan', np.NaN)"
   ]
  },
  {
   "cell_type": "code",
   "execution_count": 21,
   "metadata": {},
   "outputs": [
    {
     "data": {
      "text/plain": [
       "ps_ind_02_cat    object\n",
       "ps_ind_04_cat    object\n",
       "ps_ind_05_cat    object\n",
       "ps_car_01_cat    object\n",
       "ps_car_02_cat    object\n",
       "ps_car_03_cat    object\n",
       "ps_car_04_cat    object\n",
       "ps_car_05_cat    object\n",
       "ps_car_06_cat    object\n",
       "ps_car_07_cat    object\n",
       "ps_car_08_cat    object\n",
       "ps_car_09_cat    object\n",
       "ps_car_10_cat    object\n",
       "ps_car_11_cat    object\n",
       "dtype: object"
      ]
     },
     "execution_count": 21,
     "metadata": {},
     "output_type": "execute_result"
    }
   ],
   "source": [
    "train[cat_columns].dtypes"
   ]
  },
  {
   "cell_type": "code",
   "execution_count": 22,
   "metadata": {},
   "outputs": [],
   "source": [
    "train['id'] = train['id'].astype(str)"
   ]
  },
  {
   "cell_type": "code",
   "execution_count": 23,
   "metadata": {},
   "outputs": [
    {
     "name": "stdout",
     "output_type": "stream",
     "text": [
      "<class 'pandas.core.frame.DataFrame'>\n",
      "RangeIndex: 595212 entries, 0 to 595211\n",
      "Data columns (total 59 columns):\n",
      " #   Column          Non-Null Count   Dtype  \n",
      "---  ------          --------------   -----  \n",
      " 0   id              595212 non-null  object \n",
      " 1   target          595212 non-null  int64  \n",
      " 2   ps_ind_01       595212 non-null  int64  \n",
      " 3   ps_ind_02_cat   594996 non-null  object \n",
      " 4   ps_ind_03       595212 non-null  int64  \n",
      " 5   ps_ind_04_cat   595129 non-null  object \n",
      " 6   ps_ind_05_cat   589403 non-null  object \n",
      " 7   ps_ind_06_bin   595212 non-null  int64  \n",
      " 8   ps_ind_07_bin   595212 non-null  int64  \n",
      " 9   ps_ind_08_bin   595212 non-null  int64  \n",
      " 10  ps_ind_09_bin   595212 non-null  int64  \n",
      " 11  ps_ind_10_bin   595212 non-null  int64  \n",
      " 12  ps_ind_11_bin   595212 non-null  int64  \n",
      " 13  ps_ind_12_bin   595212 non-null  int64  \n",
      " 14  ps_ind_13_bin   595212 non-null  int64  \n",
      " 15  ps_ind_14       595212 non-null  int64  \n",
      " 16  ps_ind_15       595212 non-null  int64  \n",
      " 17  ps_ind_16_bin   595212 non-null  int64  \n",
      " 18  ps_ind_17_bin   595212 non-null  int64  \n",
      " 19  ps_ind_18_bin   595212 non-null  int64  \n",
      " 20  ps_reg_01       595212 non-null  float64\n",
      " 21  ps_reg_02       595212 non-null  float64\n",
      " 22  ps_reg_03       487440 non-null  float64\n",
      " 23  ps_car_01_cat   595105 non-null  object \n",
      " 24  ps_car_02_cat   595207 non-null  object \n",
      " 25  ps_car_03_cat   183981 non-null  object \n",
      " 26  ps_car_04_cat   595212 non-null  object \n",
      " 27  ps_car_05_cat   328661 non-null  object \n",
      " 28  ps_car_06_cat   595212 non-null  object \n",
      " 29  ps_car_07_cat   583723 non-null  object \n",
      " 30  ps_car_08_cat   595212 non-null  object \n",
      " 31  ps_car_09_cat   594643 non-null  object \n",
      " 32  ps_car_10_cat   595212 non-null  object \n",
      " 33  ps_car_11_cat   595212 non-null  object \n",
      " 34  ps_car_11       595207 non-null  float64\n",
      " 35  ps_car_12       595211 non-null  float64\n",
      " 36  ps_car_13       595212 non-null  float64\n",
      " 37  ps_car_14       552592 non-null  float64\n",
      " 38  ps_car_15       595212 non-null  float64\n",
      " 39  ps_calc_01      595212 non-null  float64\n",
      " 40  ps_calc_02      595212 non-null  float64\n",
      " 41  ps_calc_03      595212 non-null  float64\n",
      " 42  ps_calc_04      595212 non-null  int64  \n",
      " 43  ps_calc_05      595212 non-null  int64  \n",
      " 44  ps_calc_06      595212 non-null  int64  \n",
      " 45  ps_calc_07      595212 non-null  int64  \n",
      " 46  ps_calc_08      595212 non-null  int64  \n",
      " 47  ps_calc_09      595212 non-null  int64  \n",
      " 48  ps_calc_10      595212 non-null  int64  \n",
      " 49  ps_calc_11      595212 non-null  int64  \n",
      " 50  ps_calc_12      595212 non-null  int64  \n",
      " 51  ps_calc_13      595212 non-null  int64  \n",
      " 52  ps_calc_14      595212 non-null  int64  \n",
      " 53  ps_calc_15_bin  595212 non-null  int64  \n",
      " 54  ps_calc_16_bin  595212 non-null  int64  \n",
      " 55  ps_calc_17_bin  595212 non-null  int64  \n",
      " 56  ps_calc_18_bin  595212 non-null  int64  \n",
      " 57  ps_calc_19_bin  595212 non-null  int64  \n",
      " 58  ps_calc_20_bin  595212 non-null  int64  \n",
      "dtypes: float64(11), int64(33), object(15)\n",
      "memory usage: 267.9+ MB\n"
     ]
    }
   ],
   "source": [
    "train.info()"
   ]
  },
  {
   "cell_type": "code",
   "execution_count": 24,
   "metadata": {
    "scrolled": true
   },
   "outputs": [
    {
     "data": {
      "text/plain": [
       "1.0    431859\n",
       "2.0    123573\n",
       "3.0     28186\n",
       "4.0     11378\n",
       "Name: ps_ind_02_cat, dtype: int64"
      ]
     },
     "execution_count": 24,
     "metadata": {},
     "output_type": "execute_result"
    }
   ],
   "source": [
    "train[cat_columns[0]].value_counts()"
   ]
  },
  {
   "cell_type": "code",
   "execution_count": 25,
   "metadata": {},
   "outputs": [
    {
     "name": "stdout",
     "output_type": "stream",
     "text": [
      "['ps_ind_06_bin', 'ps_ind_07_bin', 'ps_ind_08_bin', 'ps_ind_09_bin', 'ps_ind_10_bin', 'ps_ind_11_bin', 'ps_ind_12_bin', 'ps_ind_13_bin', 'ps_ind_16_bin', 'ps_ind_17_bin', 'ps_ind_18_bin', 'ps_calc_15_bin', 'ps_calc_16_bin', 'ps_calc_17_bin', 'ps_calc_18_bin', 'ps_calc_19_bin', 'ps_calc_20_bin', 'ps_ind_02_cat', 'ps_ind_04_cat', 'ps_ind_05_cat', 'ps_car_01_cat', 'ps_car_02_cat', 'ps_car_03_cat', 'ps_car_04_cat', 'ps_car_05_cat', 'ps_car_06_cat', 'ps_car_07_cat', 'ps_car_08_cat', 'ps_car_09_cat', 'ps_car_10_cat', 'ps_car_11_cat']\n"
     ]
    }
   ],
   "source": [
    "bin_mask = ['bin' in x for x in train.columns]\n",
    "bin_columns = list(train.columns[bin_mask])\n",
    "print(bin_columns + cat_columns)"
   ]
  },
  {
   "cell_type": "code",
   "execution_count": 26,
   "metadata": {},
   "outputs": [
    {
     "name": "stdout",
     "output_type": "stream",
     "text": [
      "['ps_ind_01', 'ps_ind_03', 'ps_ind_14', 'ps_ind_15', 'ps_reg_01', 'ps_reg_02', 'ps_reg_03', 'ps_car_11', 'ps_car_12', 'ps_car_13', 'ps_car_14', 'ps_car_15', 'ps_calc_01', 'ps_calc_02', 'ps_calc_03', 'ps_calc_04', 'ps_calc_05', 'ps_calc_06', 'ps_calc_07', 'ps_calc_08', 'ps_calc_09', 'ps_calc_10', 'ps_calc_11', 'ps_calc_12', 'ps_calc_13', 'ps_calc_14']\n"
     ]
    }
   ],
   "source": [
    "numeric_mask = [(x not in cat_columns + bin_columns) and (x not in ['id', 'target']) for x in train.columns] \n",
    "numeric_cols = list(train.columns[numeric_mask])\n",
    "print(numeric_cols)"
   ]
  },
  {
   "cell_type": "code",
   "execution_count": 27,
   "metadata": {
    "scrolled": true
   },
   "outputs": [
    {
     "data": {
      "text/html": [
       "<div>\n",
       "<style scoped>\n",
       "    .dataframe tbody tr th:only-of-type {\n",
       "        vertical-align: middle;\n",
       "    }\n",
       "\n",
       "    .dataframe tbody tr th {\n",
       "        vertical-align: top;\n",
       "    }\n",
       "\n",
       "    .dataframe thead th {\n",
       "        text-align: right;\n",
       "    }\n",
       "</style>\n",
       "<table border=\"1\" class=\"dataframe\">\n",
       "  <thead>\n",
       "    <tr style=\"text-align: right;\">\n",
       "      <th></th>\n",
       "      <th>ps_ind_01</th>\n",
       "      <th>ps_ind_03</th>\n",
       "      <th>ps_ind_14</th>\n",
       "      <th>ps_ind_15</th>\n",
       "      <th>ps_reg_01</th>\n",
       "      <th>ps_reg_02</th>\n",
       "      <th>ps_reg_03</th>\n",
       "      <th>ps_car_11</th>\n",
       "      <th>ps_car_12</th>\n",
       "      <th>ps_car_13</th>\n",
       "      <th>...</th>\n",
       "      <th>ps_calc_05</th>\n",
       "      <th>ps_calc_06</th>\n",
       "      <th>ps_calc_07</th>\n",
       "      <th>ps_calc_08</th>\n",
       "      <th>ps_calc_09</th>\n",
       "      <th>ps_calc_10</th>\n",
       "      <th>ps_calc_11</th>\n",
       "      <th>ps_calc_12</th>\n",
       "      <th>ps_calc_13</th>\n",
       "      <th>ps_calc_14</th>\n",
       "    </tr>\n",
       "  </thead>\n",
       "  <tbody>\n",
       "    <tr>\n",
       "      <th>count</th>\n",
       "      <td>595212.000000</td>\n",
       "      <td>595212.000000</td>\n",
       "      <td>595212.000000</td>\n",
       "      <td>595212.000000</td>\n",
       "      <td>595212.000000</td>\n",
       "      <td>595212.000000</td>\n",
       "      <td>487440.000000</td>\n",
       "      <td>595207.000000</td>\n",
       "      <td>595211.000000</td>\n",
       "      <td>595212.000000</td>\n",
       "      <td>...</td>\n",
       "      <td>595212.000000</td>\n",
       "      <td>595212.000000</td>\n",
       "      <td>595212.000000</td>\n",
       "      <td>595212.000000</td>\n",
       "      <td>595212.000000</td>\n",
       "      <td>595212.000000</td>\n",
       "      <td>595212.000000</td>\n",
       "      <td>595212.000000</td>\n",
       "      <td>595212.000000</td>\n",
       "      <td>595212.000000</td>\n",
       "    </tr>\n",
       "    <tr>\n",
       "      <th>mean</th>\n",
       "      <td>1.900378</td>\n",
       "      <td>4.423318</td>\n",
       "      <td>0.012451</td>\n",
       "      <td>7.299922</td>\n",
       "      <td>0.610991</td>\n",
       "      <td>0.439184</td>\n",
       "      <td>0.894047</td>\n",
       "      <td>2.346100</td>\n",
       "      <td>0.379947</td>\n",
       "      <td>0.813265</td>\n",
       "      <td>...</td>\n",
       "      <td>1.885886</td>\n",
       "      <td>7.689445</td>\n",
       "      <td>3.005823</td>\n",
       "      <td>9.225904</td>\n",
       "      <td>2.339034</td>\n",
       "      <td>8.433590</td>\n",
       "      <td>5.441382</td>\n",
       "      <td>1.441918</td>\n",
       "      <td>2.872288</td>\n",
       "      <td>7.539026</td>\n",
       "    </tr>\n",
       "    <tr>\n",
       "      <th>std</th>\n",
       "      <td>1.983789</td>\n",
       "      <td>2.699902</td>\n",
       "      <td>0.127545</td>\n",
       "      <td>3.546042</td>\n",
       "      <td>0.287643</td>\n",
       "      <td>0.404264</td>\n",
       "      <td>0.345413</td>\n",
       "      <td>0.832495</td>\n",
       "      <td>0.058300</td>\n",
       "      <td>0.224588</td>\n",
       "      <td>...</td>\n",
       "      <td>1.134927</td>\n",
       "      <td>1.334312</td>\n",
       "      <td>1.414564</td>\n",
       "      <td>1.459672</td>\n",
       "      <td>1.246949</td>\n",
       "      <td>2.904597</td>\n",
       "      <td>2.332871</td>\n",
       "      <td>1.202963</td>\n",
       "      <td>1.694887</td>\n",
       "      <td>2.746652</td>\n",
       "    </tr>\n",
       "    <tr>\n",
       "      <th>min</th>\n",
       "      <td>0.000000</td>\n",
       "      <td>0.000000</td>\n",
       "      <td>0.000000</td>\n",
       "      <td>0.000000</td>\n",
       "      <td>0.000000</td>\n",
       "      <td>0.000000</td>\n",
       "      <td>0.061237</td>\n",
       "      <td>0.000000</td>\n",
       "      <td>0.100000</td>\n",
       "      <td>0.250619</td>\n",
       "      <td>...</td>\n",
       "      <td>0.000000</td>\n",
       "      <td>0.000000</td>\n",
       "      <td>0.000000</td>\n",
       "      <td>2.000000</td>\n",
       "      <td>0.000000</td>\n",
       "      <td>0.000000</td>\n",
       "      <td>0.000000</td>\n",
       "      <td>0.000000</td>\n",
       "      <td>0.000000</td>\n",
       "      <td>0.000000</td>\n",
       "    </tr>\n",
       "    <tr>\n",
       "      <th>25%</th>\n",
       "      <td>0.000000</td>\n",
       "      <td>2.000000</td>\n",
       "      <td>0.000000</td>\n",
       "      <td>5.000000</td>\n",
       "      <td>0.400000</td>\n",
       "      <td>0.200000</td>\n",
       "      <td>0.633443</td>\n",
       "      <td>2.000000</td>\n",
       "      <td>0.316228</td>\n",
       "      <td>0.670867</td>\n",
       "      <td>...</td>\n",
       "      <td>1.000000</td>\n",
       "      <td>7.000000</td>\n",
       "      <td>2.000000</td>\n",
       "      <td>8.000000</td>\n",
       "      <td>1.000000</td>\n",
       "      <td>6.000000</td>\n",
       "      <td>4.000000</td>\n",
       "      <td>1.000000</td>\n",
       "      <td>2.000000</td>\n",
       "      <td>6.000000</td>\n",
       "    </tr>\n",
       "    <tr>\n",
       "      <th>50%</th>\n",
       "      <td>1.000000</td>\n",
       "      <td>4.000000</td>\n",
       "      <td>0.000000</td>\n",
       "      <td>7.000000</td>\n",
       "      <td>0.700000</td>\n",
       "      <td>0.300000</td>\n",
       "      <td>0.801561</td>\n",
       "      <td>3.000000</td>\n",
       "      <td>0.374166</td>\n",
       "      <td>0.765811</td>\n",
       "      <td>...</td>\n",
       "      <td>2.000000</td>\n",
       "      <td>8.000000</td>\n",
       "      <td>3.000000</td>\n",
       "      <td>9.000000</td>\n",
       "      <td>2.000000</td>\n",
       "      <td>8.000000</td>\n",
       "      <td>5.000000</td>\n",
       "      <td>1.000000</td>\n",
       "      <td>3.000000</td>\n",
       "      <td>7.000000</td>\n",
       "    </tr>\n",
       "    <tr>\n",
       "      <th>75%</th>\n",
       "      <td>3.000000</td>\n",
       "      <td>6.000000</td>\n",
       "      <td>0.000000</td>\n",
       "      <td>10.000000</td>\n",
       "      <td>0.900000</td>\n",
       "      <td>0.600000</td>\n",
       "      <td>1.083974</td>\n",
       "      <td>3.000000</td>\n",
       "      <td>0.400000</td>\n",
       "      <td>0.906190</td>\n",
       "      <td>...</td>\n",
       "      <td>3.000000</td>\n",
       "      <td>9.000000</td>\n",
       "      <td>4.000000</td>\n",
       "      <td>10.000000</td>\n",
       "      <td>3.000000</td>\n",
       "      <td>10.000000</td>\n",
       "      <td>7.000000</td>\n",
       "      <td>2.000000</td>\n",
       "      <td>4.000000</td>\n",
       "      <td>9.000000</td>\n",
       "    </tr>\n",
       "    <tr>\n",
       "      <th>max</th>\n",
       "      <td>7.000000</td>\n",
       "      <td>11.000000</td>\n",
       "      <td>4.000000</td>\n",
       "      <td>13.000000</td>\n",
       "      <td>0.900000</td>\n",
       "      <td>1.800000</td>\n",
       "      <td>4.037945</td>\n",
       "      <td>3.000000</td>\n",
       "      <td>1.264911</td>\n",
       "      <td>3.720626</td>\n",
       "      <td>...</td>\n",
       "      <td>6.000000</td>\n",
       "      <td>10.000000</td>\n",
       "      <td>9.000000</td>\n",
       "      <td>12.000000</td>\n",
       "      <td>7.000000</td>\n",
       "      <td>25.000000</td>\n",
       "      <td>19.000000</td>\n",
       "      <td>10.000000</td>\n",
       "      <td>13.000000</td>\n",
       "      <td>23.000000</td>\n",
       "    </tr>\n",
       "  </tbody>\n",
       "</table>\n",
       "<p>8 rows × 26 columns</p>\n",
       "</div>"
      ],
      "text/plain": [
       "           ps_ind_01      ps_ind_03      ps_ind_14      ps_ind_15  \\\n",
       "count  595212.000000  595212.000000  595212.000000  595212.000000   \n",
       "mean        1.900378       4.423318       0.012451       7.299922   \n",
       "std         1.983789       2.699902       0.127545       3.546042   \n",
       "min         0.000000       0.000000       0.000000       0.000000   \n",
       "25%         0.000000       2.000000       0.000000       5.000000   \n",
       "50%         1.000000       4.000000       0.000000       7.000000   \n",
       "75%         3.000000       6.000000       0.000000      10.000000   \n",
       "max         7.000000      11.000000       4.000000      13.000000   \n",
       "\n",
       "           ps_reg_01      ps_reg_02      ps_reg_03      ps_car_11  \\\n",
       "count  595212.000000  595212.000000  487440.000000  595207.000000   \n",
       "mean        0.610991       0.439184       0.894047       2.346100   \n",
       "std         0.287643       0.404264       0.345413       0.832495   \n",
       "min         0.000000       0.000000       0.061237       0.000000   \n",
       "25%         0.400000       0.200000       0.633443       2.000000   \n",
       "50%         0.700000       0.300000       0.801561       3.000000   \n",
       "75%         0.900000       0.600000       1.083974       3.000000   \n",
       "max         0.900000       1.800000       4.037945       3.000000   \n",
       "\n",
       "           ps_car_12      ps_car_13  ...     ps_calc_05     ps_calc_06  \\\n",
       "count  595211.000000  595212.000000  ...  595212.000000  595212.000000   \n",
       "mean        0.379947       0.813265  ...       1.885886       7.689445   \n",
       "std         0.058300       0.224588  ...       1.134927       1.334312   \n",
       "min         0.100000       0.250619  ...       0.000000       0.000000   \n",
       "25%         0.316228       0.670867  ...       1.000000       7.000000   \n",
       "50%         0.374166       0.765811  ...       2.000000       8.000000   \n",
       "75%         0.400000       0.906190  ...       3.000000       9.000000   \n",
       "max         1.264911       3.720626  ...       6.000000      10.000000   \n",
       "\n",
       "          ps_calc_07     ps_calc_08     ps_calc_09     ps_calc_10  \\\n",
       "count  595212.000000  595212.000000  595212.000000  595212.000000   \n",
       "mean        3.005823       9.225904       2.339034       8.433590   \n",
       "std         1.414564       1.459672       1.246949       2.904597   \n",
       "min         0.000000       2.000000       0.000000       0.000000   \n",
       "25%         2.000000       8.000000       1.000000       6.000000   \n",
       "50%         3.000000       9.000000       2.000000       8.000000   \n",
       "75%         4.000000      10.000000       3.000000      10.000000   \n",
       "max         9.000000      12.000000       7.000000      25.000000   \n",
       "\n",
       "          ps_calc_11     ps_calc_12     ps_calc_13     ps_calc_14  \n",
       "count  595212.000000  595212.000000  595212.000000  595212.000000  \n",
       "mean        5.441382       1.441918       2.872288       7.539026  \n",
       "std         2.332871       1.202963       1.694887       2.746652  \n",
       "min         0.000000       0.000000       0.000000       0.000000  \n",
       "25%         4.000000       1.000000       2.000000       6.000000  \n",
       "50%         5.000000       1.000000       3.000000       7.000000  \n",
       "75%         7.000000       2.000000       4.000000       9.000000  \n",
       "max        19.000000      10.000000      13.000000      23.000000  \n",
       "\n",
       "[8 rows x 26 columns]"
      ]
     },
     "execution_count": 27,
     "metadata": {},
     "output_type": "execute_result"
    }
   ],
   "source": [
    "train[numeric_cols].describe()"
   ]
  },
  {
   "cell_type": "markdown",
   "metadata": {},
   "source": [
    "### Data Exploration"
   ]
  },
  {
   "cell_type": "code",
   "execution_count": 28,
   "metadata": {},
   "outputs": [
    {
     "name": "stdout",
     "output_type": "stream",
     "text": [
      "26\n"
     ]
    },
    {
     "data": {
      "text/html": [
       "<div>\n",
       "<style scoped>\n",
       "    .dataframe tbody tr th:only-of-type {\n",
       "        vertical-align: middle;\n",
       "    }\n",
       "\n",
       "    .dataframe tbody tr th {\n",
       "        vertical-align: top;\n",
       "    }\n",
       "\n",
       "    .dataframe thead th {\n",
       "        text-align: right;\n",
       "    }\n",
       "</style>\n",
       "<table border=\"1\" class=\"dataframe\">\n",
       "  <thead>\n",
       "    <tr style=\"text-align: right;\">\n",
       "      <th></th>\n",
       "      <th>id</th>\n",
       "      <th>target</th>\n",
       "      <th>ps_ind_01</th>\n",
       "      <th>ps_ind_02_cat</th>\n",
       "      <th>ps_ind_03</th>\n",
       "      <th>ps_ind_04_cat</th>\n",
       "      <th>ps_ind_05_cat</th>\n",
       "      <th>ps_ind_06_bin</th>\n",
       "      <th>ps_ind_07_bin</th>\n",
       "      <th>ps_ind_08_bin</th>\n",
       "      <th>...</th>\n",
       "      <th>ps_calc_11</th>\n",
       "      <th>ps_calc_12</th>\n",
       "      <th>ps_calc_13</th>\n",
       "      <th>ps_calc_14</th>\n",
       "      <th>ps_calc_15_bin</th>\n",
       "      <th>ps_calc_16_bin</th>\n",
       "      <th>ps_calc_17_bin</th>\n",
       "      <th>ps_calc_18_bin</th>\n",
       "      <th>ps_calc_19_bin</th>\n",
       "      <th>ps_calc_20_bin</th>\n",
       "    </tr>\n",
       "  </thead>\n",
       "  <tbody>\n",
       "    <tr>\n",
       "      <th>0</th>\n",
       "      <td>7</td>\n",
       "      <td>0</td>\n",
       "      <td>2</td>\n",
       "      <td>2.0</td>\n",
       "      <td>5</td>\n",
       "      <td>1.0</td>\n",
       "      <td>0.0</td>\n",
       "      <td>0</td>\n",
       "      <td>1</td>\n",
       "      <td>0</td>\n",
       "      <td>...</td>\n",
       "      <td>9</td>\n",
       "      <td>1</td>\n",
       "      <td>5</td>\n",
       "      <td>8</td>\n",
       "      <td>0</td>\n",
       "      <td>1</td>\n",
       "      <td>1</td>\n",
       "      <td>0</td>\n",
       "      <td>0</td>\n",
       "      <td>1</td>\n",
       "    </tr>\n",
       "    <tr>\n",
       "      <th>1</th>\n",
       "      <td>9</td>\n",
       "      <td>0</td>\n",
       "      <td>1</td>\n",
       "      <td>1.0</td>\n",
       "      <td>7</td>\n",
       "      <td>0.0</td>\n",
       "      <td>0.0</td>\n",
       "      <td>0</td>\n",
       "      <td>0</td>\n",
       "      <td>1</td>\n",
       "      <td>...</td>\n",
       "      <td>3</td>\n",
       "      <td>1</td>\n",
       "      <td>1</td>\n",
       "      <td>9</td>\n",
       "      <td>0</td>\n",
       "      <td>1</td>\n",
       "      <td>1</td>\n",
       "      <td>0</td>\n",
       "      <td>1</td>\n",
       "      <td>0</td>\n",
       "    </tr>\n",
       "    <tr>\n",
       "      <th>2</th>\n",
       "      <td>13</td>\n",
       "      <td>0</td>\n",
       "      <td>5</td>\n",
       "      <td>4.0</td>\n",
       "      <td>9</td>\n",
       "      <td>1.0</td>\n",
       "      <td>0.0</td>\n",
       "      <td>0</td>\n",
       "      <td>0</td>\n",
       "      <td>1</td>\n",
       "      <td>...</td>\n",
       "      <td>4</td>\n",
       "      <td>2</td>\n",
       "      <td>7</td>\n",
       "      <td>7</td>\n",
       "      <td>0</td>\n",
       "      <td>1</td>\n",
       "      <td>1</td>\n",
       "      <td>0</td>\n",
       "      <td>1</td>\n",
       "      <td>0</td>\n",
       "    </tr>\n",
       "    <tr>\n",
       "      <th>3</th>\n",
       "      <td>16</td>\n",
       "      <td>0</td>\n",
       "      <td>0</td>\n",
       "      <td>1.0</td>\n",
       "      <td>2</td>\n",
       "      <td>0.0</td>\n",
       "      <td>0.0</td>\n",
       "      <td>1</td>\n",
       "      <td>0</td>\n",
       "      <td>0</td>\n",
       "      <td>...</td>\n",
       "      <td>2</td>\n",
       "      <td>2</td>\n",
       "      <td>4</td>\n",
       "      <td>9</td>\n",
       "      <td>0</td>\n",
       "      <td>0</td>\n",
       "      <td>0</td>\n",
       "      <td>0</td>\n",
       "      <td>0</td>\n",
       "      <td>0</td>\n",
       "    </tr>\n",
       "    <tr>\n",
       "      <th>4</th>\n",
       "      <td>17</td>\n",
       "      <td>0</td>\n",
       "      <td>0</td>\n",
       "      <td>2.0</td>\n",
       "      <td>0</td>\n",
       "      <td>1.0</td>\n",
       "      <td>0.0</td>\n",
       "      <td>1</td>\n",
       "      <td>0</td>\n",
       "      <td>0</td>\n",
       "      <td>...</td>\n",
       "      <td>3</td>\n",
       "      <td>1</td>\n",
       "      <td>1</td>\n",
       "      <td>3</td>\n",
       "      <td>0</td>\n",
       "      <td>0</td>\n",
       "      <td>0</td>\n",
       "      <td>1</td>\n",
       "      <td>1</td>\n",
       "      <td>0</td>\n",
       "    </tr>\n",
       "  </tbody>\n",
       "</table>\n",
       "<p>5 rows × 59 columns</p>\n",
       "</div>"
      ],
      "text/plain": [
       "   id  target  ps_ind_01 ps_ind_02_cat  ps_ind_03 ps_ind_04_cat ps_ind_05_cat  \\\n",
       "0   7       0          2           2.0          5           1.0           0.0   \n",
       "1   9       0          1           1.0          7           0.0           0.0   \n",
       "2  13       0          5           4.0          9           1.0           0.0   \n",
       "3  16       0          0           1.0          2           0.0           0.0   \n",
       "4  17       0          0           2.0          0           1.0           0.0   \n",
       "\n",
       "   ps_ind_06_bin  ps_ind_07_bin  ps_ind_08_bin  ...  ps_calc_11  ps_calc_12  \\\n",
       "0              0              1              0  ...           9           1   \n",
       "1              0              0              1  ...           3           1   \n",
       "2              0              0              1  ...           4           2   \n",
       "3              1              0              0  ...           2           2   \n",
       "4              1              0              0  ...           3           1   \n",
       "\n",
       "   ps_calc_13  ps_calc_14  ps_calc_15_bin  ps_calc_16_bin  ps_calc_17_bin  \\\n",
       "0           5           8               0               1               1   \n",
       "1           1           9               0               1               1   \n",
       "2           7           7               0               1               1   \n",
       "3           4           9               0               0               0   \n",
       "4           1           3               0               0               0   \n",
       "\n",
       "   ps_calc_18_bin  ps_calc_19_bin  ps_calc_20_bin  \n",
       "0               0               0               1  \n",
       "1               0               1               0  \n",
       "2               0               1               0  \n",
       "3               0               0               0  \n",
       "4               1               1               0  \n",
       "\n",
       "[5 rows x 59 columns]"
      ]
     },
     "execution_count": 28,
     "metadata": {},
     "output_type": "execute_result"
    }
   ],
   "source": [
    "print(len(numeric_cols))\n",
    "train.head()"
   ]
  },
  {
   "cell_type": "code",
   "execution_count": 89,
   "metadata": {},
   "outputs": [
    {
     "name": "stderr",
     "output_type": "stream",
     "text": [
      "No handles with labels found to put in legend.\n"
     ]
    },
    {
     "data": {
      "text/plain": [
       "<Figure size 1080x1296 with 0 Axes>"
      ]
     },
     "metadata": {},
     "output_type": "display_data"
    },
    {
     "data": {
      "image/png": "[encoded data removed]",
      "text/plain": [
       "<Figure size 432x288 with 4 Axes>"
      ]
     },
     "metadata": {
      "needs_background": "light"
     },
     "output_type": "display_data"
    }
   ],
   "source": [
    "plt.figure(figsize=(15, 18))\n",
    "fig, ax = plt.subplots(2,2)\n",
    "\n",
    "for ix, col in enumerate(numeric_cols[:4]):\n",
    "    ix1 = ix%2\n",
    "    ix2 = [0,1,1,0][ix]\n",
    "    sns.barplot(train['target'], train[col], ax=ax[ix1][ix2])\n",
    "\n",
    "plt.legend()\n",
    "plt.show()"
   ]
  },
  {
   "cell_type": "markdown",
   "metadata": {},
   "source": [
    "### Numeric Cols Exploration"
   ]
  },
  {
   "cell_type": "code",
   "execution_count": 41,
   "metadata": {
    "scrolled": true
   },
   "outputs": [
    {
     "name": "stdout",
     "output_type": "stream",
     "text": [
      "\n",
      "ps_ind_01 column\n",
      "(8,)\n",
      "0    187594\n",
      "1    143984\n",
      "2     82468\n",
      "5     61464\n",
      "3     51193\n",
      "4     33524\n",
      "6     17682\n",
      "7     17303\n",
      "Name: ps_ind_01, dtype: int64\n",
      "\n",
      "ps_ind_03 column\n",
      "(12,)\n",
      "0    5\n",
      "1    7\n",
      "2    9\n",
      "3    2\n",
      "4    0\n",
      "Name: ps_ind_03, dtype: int64\n",
      "\n",
      "ps_ind_14 column\n",
      "(5,)\n",
      "0    588832\n",
      "1      5495\n",
      "2       744\n",
      "3       136\n",
      "4         5\n",
      "Name: ps_ind_14, dtype: int64\n",
      "\n",
      "ps_ind_15 column\n",
      "(14,)\n",
      "0    11\n",
      "1     3\n",
      "2    12\n",
      "3     8\n",
      "4     9\n",
      "Name: ps_ind_15, dtype: int64\n",
      "\n",
      "ps_reg_01 column\n",
      "(10,)\n",
      "0    0.7\n",
      "1    0.8\n",
      "2    0.0\n",
      "3    0.9\n",
      "4    0.7\n",
      "Name: ps_reg_01, dtype: float64\n",
      "\n",
      "ps_reg_02 column\n",
      "(19,)\n",
      "0    0.2\n",
      "1    0.4\n",
      "2    0.0\n",
      "3    0.2\n",
      "4    0.6\n",
      "Name: ps_reg_02, dtype: float64\n",
      "\n",
      "ps_reg_03 column\n",
      "(5012,)\n",
      "0    0.718070\n",
      "1    0.766078\n",
      "2         NaN\n",
      "3    0.580948\n",
      "4    0.840759\n",
      "Name: ps_reg_03, dtype: float64\n",
      "\n",
      "ps_car_11 column\n",
      "(4,)\n",
      "3.0    318919\n",
      "2.0    189353\n",
      "1.0     60952\n",
      "0.0     25983\n",
      "Name: ps_car_11, dtype: int64\n",
      "\n",
      "ps_car_12 column\n",
      "(183,)\n",
      "0    0.400000\n",
      "1    0.316228\n",
      "2    0.316228\n",
      "3    0.374166\n",
      "4    0.316070\n",
      "Name: ps_car_12, dtype: float64\n",
      "\n",
      "ps_car_13 column\n",
      "(70482,)\n",
      "0    0.883679\n",
      "1    0.618817\n",
      "2    0.641586\n",
      "3    0.542949\n",
      "4    0.565832\n",
      "Name: ps_car_13, dtype: float64\n",
      "\n",
      "ps_car_14 column\n",
      "(849,)\n",
      "0    0.370810\n",
      "1    0.388716\n",
      "2    0.347275\n",
      "3    0.294958\n",
      "4    0.365103\n",
      "Name: ps_car_14, dtype: float64\n",
      "\n",
      "ps_car_15 column\n",
      "(15,)\n",
      "0    3.605551\n",
      "1    2.449490\n",
      "2    3.316625\n",
      "3    2.000000\n",
      "4    2.000000\n",
      "Name: ps_car_15, dtype: float64\n",
      "\n",
      "ps_calc_01 column\n",
      "(10,)\n",
      "0    0.6\n",
      "1    0.3\n",
      "2    0.5\n",
      "3    0.6\n",
      "4    0.4\n",
      "Name: ps_calc_01, dtype: float64\n",
      "\n",
      "ps_calc_02 column\n",
      "(10,)\n",
      "0    0.5\n",
      "1    0.1\n",
      "2    0.7\n",
      "3    0.9\n",
      "4    0.6\n",
      "Name: ps_calc_02, dtype: float64\n",
      "\n",
      "ps_calc_03 column\n",
      "(10,)\n",
      "0    0.2\n",
      "1    0.3\n",
      "2    0.1\n",
      "3    0.1\n",
      "4    0.0\n",
      "Name: ps_calc_03, dtype: float64\n",
      "\n",
      "ps_calc_04 column\n",
      "(6,)\n",
      "2    193977\n",
      "3    175512\n",
      "1    108012\n",
      "4     79606\n",
      "0     23912\n",
      "5     14193\n",
      "Name: ps_calc_04, dtype: int64\n",
      "\n",
      "ps_calc_05 column\n",
      "(7,)\n",
      "2    195160\n",
      "1    170860\n",
      "3    119192\n",
      "0     61226\n",
      "4     40682\n",
      "5      7534\n",
      "6       558\n",
      "Name: ps_calc_05, dtype: int64\n",
      "\n",
      "ps_calc_06 column\n",
      "(11,)\n",
      "0    10\n",
      "1     9\n",
      "2     9\n",
      "3     7\n",
      "4     6\n",
      "Name: ps_calc_06, dtype: int64\n",
      "\n",
      "ps_calc_07 column\n",
      "(10,)\n",
      "0    1\n",
      "1    5\n",
      "2    1\n",
      "3    1\n",
      "4    3\n",
      "Name: ps_calc_07, dtype: int64\n",
      "\n",
      "ps_calc_08 column\n",
      "(11,)\n",
      "0    10\n",
      "1     8\n",
      "2     8\n",
      "3     8\n",
      "4    10\n",
      "Name: ps_calc_08, dtype: int64\n",
      "\n",
      "ps_calc_09 column\n",
      "(8,)\n",
      "2    182519\n",
      "3    152829\n",
      "1    121391\n",
      "4     76973\n",
      "0     34479\n",
      "5     22976\n",
      "6      3782\n",
      "7       263\n",
      "Name: ps_calc_09, dtype: int64\n",
      "\n",
      "ps_calc_10 column\n",
      "(26,)\n",
      "0     5\n",
      "1     7\n",
      "2     7\n",
      "3     2\n",
      "4    12\n",
      "Name: ps_calc_10, dtype: int64\n",
      "\n",
      "ps_calc_11 column\n",
      "(20,)\n",
      "0    9\n",
      "1    3\n",
      "2    4\n",
      "3    2\n",
      "4    3\n",
      "Name: ps_calc_11, dtype: int64\n",
      "\n",
      "ps_calc_12 column\n",
      "(11,)\n",
      "0    1\n",
      "1    1\n",
      "2    2\n",
      "3    2\n",
      "4    1\n",
      "Name: ps_calc_12, dtype: int64\n",
      "\n",
      "ps_calc_13 column\n",
      "(14,)\n",
      "0    5\n",
      "1    1\n",
      "2    7\n",
      "3    4\n",
      "4    1\n",
      "Name: ps_calc_13, dtype: int64\n",
      "\n",
      "ps_calc_14 column\n",
      "(24,)\n",
      "0    8\n",
      "1    9\n",
      "2    7\n",
      "3    9\n",
      "4    3\n",
      "Name: ps_calc_14, dtype: int64\n"
     ]
    }
   ],
   "source": [
    "# col = numeric_cols[0]\n",
    "for col in numeric_cols:\n",
    "    print('\\n' + col + ' column')\n",
    "    print(train[col].value_counts().shape)\n",
    "    if train[col].value_counts().shape[0] <10:\n",
    "        print(train[col].value_counts())\n",
    "    else:\n",
    "        print(train[col].head())"
   ]
  },
  {
   "cell_type": "markdown",
   "metadata": {},
   "source": [
    "I see that numeric variables I assumed are not completely numeric. They are ordinal. It will be useful to treat them as ordinal. I'll get back to that later."
   ]
  },
  {
   "cell_type": "markdown",
   "metadata": {},
   "source": [
    "### Logit charts of Numeric columns"
   ]
  },
  {
   "cell_type": "code",
   "execution_count": 161,
   "metadata": {
    "scrolled": true
   },
   "outputs": [
    {
     "name": "stdout",
     "output_type": "stream",
     "text": [
      "(200000, 58) (200000,) (200000, 27)\n",
      "           count      mean\n",
      "ps_ind_01                 \n",
      "0          60342  0.473634\n",
      "1          46987  0.485730\n",
      "2          27771  0.499514\n",
      "3          18132  0.528623\n",
      "4          12212  0.540288\n",
      "5          21815  0.531102\n",
      "6           6420  0.554517\n",
      "7           6321  0.537257\n",
      "ps_ind_03\n",
      "               count      mean\n",
      "bins                          \n",
      "(-0.001, 1.0]  29907  0.535092\n",
      "(1.0, 2.0]     29418  0.452886\n",
      "(2.0, 3.0]     25490  0.449000\n",
      "(3.0, 4.0]     21598  0.472590\n",
      "(4.0, 5.0]     22036  0.524233\n",
      "(5.0, 6.0]     21832  0.537560\n",
      "(6.0, 8.0]     32126  0.521571\n",
      "(8.0, 11.0]    17593  0.510317\n",
      "            count      mean\n",
      "ps_ind_14                  \n",
      "0          197485  0.498939\n",
      "1            2156  0.582096\n",
      "2             301  0.581395\n",
      "3              51  0.627451\n",
      "4               7  0.714286\n",
      "ps_ind_15\n",
      "               count      mean\n",
      "bins                          \n",
      "(-0.001, 3.0]  34230  0.540345\n",
      "(3.0, 5.0]     29286  0.518336\n",
      "(5.0, 6.0]     19984  0.519365\n",
      "(6.0, 7.0]     22974  0.522852\n",
      "(7.0, 8.0]     19682  0.492379\n",
      "(8.0, 10.0]    32293  0.474066\n",
      "(10.0, 12.0]   30450  0.453071\n",
      "(12.0, 13.0]   11101  0.462751\n",
      "C:\\Users\\mysel\\OneDrive\\Documents\\Shan\\Side Projects\\Kaggle\\SafeDriverProtection\\graphs\\logit_0.png\n",
      "ps_reg_01\n",
      "               count      mean\n",
      "bins                          \n",
      "(-0.001, 0.2]  27017  0.432394\n",
      "(0.2, 0.4]     30827  0.492944\n",
      "(0.4, 0.6]     28604  0.479968\n",
      "(0.6, 0.7]     23645  0.516050\n",
      "(0.7, 0.8]     20637  0.510636\n",
      "(0.8, 0.9]     69270  0.529132\n",
      "ps_reg_02\n",
      "               count      mean\n",
      "bins                          \n",
      "(-0.001, 0.2]  73317  0.454383\n",
      "(0.2, 0.3]     30760  0.482867\n",
      "(0.3, 0.5]     32884  0.508819\n",
      "(0.5, 0.7]     19391  0.527306\n",
      "(0.7, 1.1]     22563  0.555999\n",
      "(1.1, 1.8]     21085  0.584823\n",
      "ps_reg_03\n",
      "                 count      mean\n",
      "bins                            \n",
      "(0.0602, 0.567]  21047  0.446477\n",
      "(0.567, 0.649]   20900  0.458038\n",
      "(0.649, 0.734]   20985  0.491732\n",
      "(0.734, 0.834]   20966  0.496566\n",
      "(0.834, 0.953]   20963  0.531651\n",
      "(0.953, 1.128]   20965  0.549583\n",
      "(1.128, 1.378]   20943  0.555078\n",
      "(1.378, 3.491]   20952  0.575267\n",
      "            count      mean\n",
      "ps_car_11                  \n",
      "0.0          9959  0.558389\n",
      "1.0         17887  0.422374\n",
      "2.0         65105  0.511804\n",
      "3.0        107048  0.500364\n",
      "C:\\Users\\mysel\\OneDrive\\Documents\\Shan\\Side Projects\\Kaggle\\SafeDriverProtection\\graphs\\logit_1.png\n",
      "ps_car_12\n",
      "                              count      mean\n",
      "bins                                         \n",
      "(0.13999999999999999, 0.316]  61457  0.442195\n",
      "(0.316, 0.374]                35255  0.498369\n",
      "(0.374, 0.387]                 5419  0.559697\n",
      "(0.387, 0.4]                  42936  0.506917\n",
      "(0.4, 0.424]                  20275  0.519605\n",
      "(0.424, 0.447]                21637  0.548274\n",
      "(0.447, 1.265]                13021  0.618846\n",
      "ps_car_13\n",
      "                count      mean\n",
      "bins                           \n",
      "(0.289, 0.62]   25039  0.399018\n",
      "(0.62, 0.685]   24997  0.454695\n",
      "(0.685, 0.735]  24968  0.461751\n",
      "(0.735, 0.788]  25070  0.473833\n",
      "(0.788, 0.855]  24929  0.505636\n",
      "(0.855, 0.941]  25005  0.529334\n",
      "(0.941, 1.094]  24992  0.558579\n",
      "(1.094, 3.443]  25000  0.617360\n",
      "ps_car_14\n",
      "                count      mean\n",
      "bins                           \n",
      "(0.109, 0.32]   23214  0.510123\n",
      "(0.32, 0.347]   23994  0.538426\n",
      "(0.347, 0.362]  25048  0.455845\n",
      "(0.362, 0.374]  20933  0.446854\n",
      "(0.374, 0.386]  22920  0.482199\n",
      "(0.386, 0.4]    24907  0.482234\n",
      "(0.4, 0.423]    22202  0.510089\n",
      "(0.423, 0.636]  22043  0.562491\n",
      "ps_car_15\n",
      "                 count      mean\n",
      "bins                            \n",
      "(-0.001, 2.449]  26901  0.426824\n",
      "(2.449, 2.828]   24613  0.458823\n",
      "(2.828, 3.162]   36731  0.487027\n",
      "(3.162, 3.317]   23784  0.514464\n",
      "(3.317, 3.464]   27422  0.523740\n",
      "(3.464, 3.606]   40404  0.551257\n",
      "(3.606, 3.742]   20145  0.519484\n",
      "C:\\Users\\mysel\\OneDrive\\Documents\\Shan\\Side Projects\\Kaggle\\SafeDriverProtection\\graphs\\logit_2.png\n",
      "ps_calc_01\n",
      "               count      mean\n",
      "bins                          \n",
      "(-0.001, 0.1]  39558  0.495500\n",
      "(0.1, 0.2]     19790  0.496766\n",
      "(0.2, 0.3]     19958  0.497545\n",
      "(0.3, 0.5]     40000  0.504100\n",
      "(0.5, 0.6]     19821  0.493214\n",
      "(0.6, 0.7]     20445  0.502910\n",
      "(0.7, 0.8]     20190  0.496087\n",
      "(0.8, 0.9]     20238  0.513885\n",
      "ps_calc_02\n",
      "               count      mean\n",
      "bins                          \n",
      "(-0.001, 0.1]  39010  0.487849\n",
      "(0.1, 0.2]     20135  0.509014\n",
      "(0.2, 0.3]     19832  0.492941\n",
      "(0.3, 0.5]     40895  0.505979\n",
      "(0.5, 0.6]     20210  0.510638\n",
      "(0.6, 0.7]     20240  0.502767\n",
      "(0.7, 0.8]     20131  0.507079\n",
      "(0.8, 0.9]     19547  0.488464\n",
      "ps_calc_03\n",
      "               count      mean\n",
      "bins                          \n",
      "(-0.001, 0.1]  39477  0.494744\n",
      "(0.1, 0.2]     20099  0.502164\n",
      "(0.2, 0.3]     20151  0.502953\n",
      "(0.3, 0.5]     40181  0.501033\n",
      "(0.5, 0.6]     20062  0.498953\n",
      "(0.6, 0.7]     19816  0.494600\n",
      "(0.7, 0.8]     20347  0.506709\n",
      "(0.8, 0.9]     19867  0.502743\n",
      "            count      mean\n",
      "ps_calc_04                 \n",
      "0            7809  0.489435\n",
      "1           36353  0.499876\n",
      "2           66136  0.503977\n",
      "3           58366  0.498458\n",
      "4           26483  0.495828\n",
      "5            4853  0.505048\n",
      "C:\\Users\\mysel\\OneDrive\\Documents\\Shan\\Side Projects\\Kaggle\\SafeDriverProtection\\graphs\\logit_3.png\n",
      "            count      mean\n",
      "ps_calc_05                 \n",
      "0           20440  0.491683\n",
      "1           57873  0.504605\n",
      "2           65298  0.502481\n",
      "3           39698  0.492065\n",
      "4           13906  0.500647\n",
      "5            2545  0.507269\n",
      "6             240  0.620833\n",
      "ps_calc_06\n",
      "               count      mean\n",
      "bins                          \n",
      "(-0.001, 6.0]  36067  0.495550\n",
      "(6.0, 7.0]     46402  0.493211\n",
      "(7.0, 8.0]     59860  0.508169\n",
      "(8.0, 9.0]     43408  0.503755\n",
      "(9.0, 10.0]    14263  0.487625\n",
      "ps_calc_07\n",
      "               count      mean\n",
      "bins                          \n",
      "(-0.001, 1.0]  28330  0.504906\n",
      "(1.0, 2.0]     46919  0.502142\n",
      "(2.0, 3.0]     53925  0.490923\n",
      "(3.0, 4.0]     41864  0.509579\n",
      "(4.0, 5.0]     20075  0.486276\n",
      "(5.0, 9.0]      8887  0.514009\n",
      "ps_calc_08\n",
      "              count      mean\n",
      "bins                         \n",
      "(1.999, 8.0]  59867  0.505270\n",
      "(8.0, 9.0]    50154  0.494856\n",
      "(9.0, 10.0]   50661  0.497957\n",
      "(10.0, 11.0]  30958  0.506363\n",
      "(11.0, 12.0]   8360  0.481938\n",
      "C:\\Users\\mysel\\OneDrive\\Documents\\Shan\\Side Projects\\Kaggle\\SafeDriverProtection\\graphs\\logit_4.png\n",
      "            count      mean\n",
      "ps_calc_09                 \n",
      "0           11439  0.498470\n",
      "1           40474  0.491723\n",
      "2           61831  0.508159\n",
      "3           51471  0.499388\n",
      "4           25795  0.498042\n",
      "5            7599  0.488617\n",
      "6            1326  0.522624\n",
      "7              65  0.292308\n",
      "ps_calc_10\n",
      "               count      mean\n",
      "bins                          \n",
      "(-0.001, 5.0]  30735  0.499561\n",
      "(5.0, 6.0]     21795  0.500206\n",
      "(6.0, 7.0]     26371  0.501536\n",
      "(7.0, 8.0]     27131  0.493568\n",
      "(8.0, 9.0]     26589  0.511753\n",
      "(9.0, 10.0]    22054  0.502947\n",
      "(10.0, 12.0]   28128  0.496409\n",
      "(12.0, 23.0]   17197  0.492237\n",
      "ps_calc_11\n",
      "               count      mean\n",
      "bins                          \n",
      "(-0.001, 3.0]  41919  0.503543\n",
      "(3.0, 4.0]     31760  0.504628\n",
      "(4.0, 5.0]     34327  0.500044\n",
      "(5.0, 6.0]     31390  0.493406\n",
      "(6.0, 7.0]     23662  0.481996\n",
      "(7.0, 8.0]     16742  0.516545\n",
      "(8.0, 19.0]    20200  0.502921\n",
      "ps_calc_12\n",
      "                count      mean\n",
      "bins                           \n",
      "(-0.001, 1.0]  116080  0.501688\n",
      "(1.0, 2.0]      48571  0.498322\n",
      "(2.0, 3.0]      23614  0.494537\n",
      "(3.0, 10.0]     11735  0.501236\n",
      "C:\\Users\\mysel\\OneDrive\\Documents\\Shan\\Side Projects\\Kaggle\\SafeDriverProtection\\graphs\\logit_5.png\n"
     ]
    },
    {
     "data": {
      "text/plain": [
       "<Figure size 1440x1152 with 0 Axes>"
      ]
     },
     "metadata": {},
     "output_type": "display_data"
    },
    {
     "data": {
      "image/png": "[encoded data removed]",
      "text/plain": [
       "<Figure size 1332x756 with 4 Axes>"
      ]
     },
     "metadata": {
      "needs_background": "light"
     },
     "output_type": "display_data"
    },
    {
     "data": {
      "text/plain": [
       "<Figure size 1440x1152 with 0 Axes>"
      ]
     },
     "metadata": {},
     "output_type": "display_data"
    },
    {
     "data": {
      "image/png": "[encoded data removed]",
      "text/plain": [
       "<Figure size 1332x756 with 4 Axes>"
      ]
     },
     "metadata": {
      "needs_background": "light"
     },
     "output_type": "display_data"
    },
    {
     "data": {
      "text/plain": [
       "<Figure size 1440x1152 with 0 Axes>"
      ]
     },
     "metadata": {},
     "output_type": "display_data"
    },
    {
     "data": {
      "image/png": "[encoded data removed]",
      "text/plain": [
       "<Figure size 1332x756 with 4 Axes>"
      ]
     },
     "metadata": {
      "needs_background": "light"
     },
     "output_type": "display_data"
    },
    {
     "data": {
      "text/plain": [
       "<Figure size 1440x1152 with 0 Axes>"
      ]
     },
     "metadata": {},
     "output_type": "display_data"
    },
    {
     "data": {
      "image/png": "[encoded data removed]",
      "text/plain": [
       "<Figure size 1332x756 with 4 Axes>"
      ]
     },
     "metadata": {
      "needs_background": "light"
     },
     "output_type": "display_data"
    },
    {
     "data": {
      "text/plain": [
       "<Figure size 1440x1152 with 0 Axes>"
      ]
     },
     "metadata": {},
     "output_type": "display_data"
    },
    {
     "data": {
      "image/png": "[encoded data removed]",
      "text/plain": [
       "<Figure size 1332x756 with 4 Axes>"
      ]
     },
     "metadata": {
      "needs_background": "light"
     },
     "output_type": "display_data"
    },
    {
     "data": {
      "text/plain": [
       "<Figure size 1440x1152 with 0 Axes>"
      ]
     },
     "metadata": {},
     "output_type": "display_data"
    },
    {
     "data": {
      "image/png": "[encoded data removed]",
      "text/plain": [
       "<Figure size 1332x756 with 4 Axes>"
      ]
     },
     "metadata": {
      "needs_background": "light"
     },
     "output_type": "display_data"
    }
   ],
   "source": [
    "from itertools import product\n",
    "\n",
    "logit_plots_path = r'C:\\Users\\mysel\\OneDrive\\Documents\\Shan\\Side Projects\\Kaggle\\SafeDriverProtection\\graphs'\n",
    "t = pd.concat([X_train[numeric_cols], y_train], axis=1)\n",
    "print(X_train.shape, y_train.shape, t.shape)\n",
    "\n",
    "def logit_chart(full_pd, numeric_cols):\n",
    "    for i in range(int(len(numeric_cols) / 4)):\n",
    "        plt.figure(figsize=(20,16))\n",
    "        fig, ax = plt.subplots(2,2)\n",
    "        fig.subplots_adjust(hspace=.5)\n",
    "        ixs = list(product([0, 1], [0, 1]))\n",
    "        sub_cols = numeric_cols[(i*4):(i*4+4)]\n",
    "        for ix, j in zip(ixs, range(4)):\n",
    "            if full_pd[sub_cols[j]].nunique() < 10:\n",
    "                means = full_pd.groupby(sub_cols[j]).target.mean()\n",
    "                print(full_pd.groupby(sub_cols[j]).target.agg(['count', 'mean']))\n",
    "                sns.lineplot(x = means.index, y = means, ax = ax[ix[0]][ix[1]])\n",
    "                ax[ix[0]][ix[1]].set(xlabel=sub_cols[j])\n",
    "            else:\n",
    "                full_pd['bins'] = pd.qcut(full_pd[sub_cols[j]], q=8, duplicates='drop')            \n",
    "                means = full_pd.groupby('bins').target.mean()\n",
    "                print(sub_cols[j])\n",
    "                print(full_pd.groupby('bins').target.agg(['count', 'mean']))\n",
    "                xs = list(pd.IntervalIndex(means.index).right)\n",
    "                sns.lineplot(x = xs, y = means.to_list(), ax = ax[ix[0]][ix[1]])\n",
    "                ax[ix[0]][ix[1]].set(xlabel=sub_cols[j])\n",
    "\n",
    "        filename = os.path.join(logit_plots_path, 'logit_{}.png'.format(i))\n",
    "        print(filename)\n",
    "        fig.set_size_inches(18.5, 10.5)\n",
    "        # fig.savefig('test2png.png', dpi=100)\n",
    "        plt.savefig(filename, dpi = 100)\n",
    "#         plt.show()\n",
    "        \n",
    "\n",
    "logit_chart(t, numeric_cols)"
   ]
  },
  {
   "cell_type": "markdown",
   "metadata": {},
   "source": [
    "### Data Splitting"
   ]
  },
  {
   "cell_type": "code",
   "execution_count": 29,
   "metadata": {},
   "outputs": [],
   "source": [
    "# print(train.shape)\n",
    "# print(train.target.value_counts())"
   ]
  },
  {
   "cell_type": "markdown",
   "metadata": {},
   "source": [
    "We see severe case class imbalance. While Splitting and modelig we have to handle the class imbalance issue"
   ]
  },
  {
   "cell_type": "markdown",
   "metadata": {},
   "source": [
    "Split train and test split"
   ]
  },
  {
   "cell_type": "code",
   "execution_count": 30,
   "metadata": {},
   "outputs": [],
   "source": [
    "input_columns = list(train.columns)\n",
    "input_columns.remove('target')\n",
    "np.random.seed(38017)\n",
    "X_trainval, X_test, y_trainval, y_test  = train_test_split(train[input_columns], train['target'], test_size=0.2)"
   ]
  },
  {
   "cell_type": "markdown",
   "metadata": {},
   "source": [
    "Split train and validation split"
   ]
  },
  {
   "cell_type": "code",
   "execution_count": 31,
   "metadata": {},
   "outputs": [
    {
     "name": "stdout",
     "output_type": "stream",
     "text": [
      "(380935,) (95234,)\n",
      "0    367046\n",
      "1     13889\n",
      "Name: target, dtype: int64\n",
      "0    91786\n",
      "1     3448\n",
      "Name: target, dtype: int64\n"
     ]
    }
   ],
   "source": [
    "X_train, X_val, y_train, y_val = train_test_split(X_trainval, y_trainval, test_size=0.2)\n",
    "print(y_train.shape, y_val.shape)\n",
    "print(y_train.value_counts())\n",
    "print(y_val.value_counts())"
   ]
  },
  {
   "cell_type": "code",
   "execution_count": 32,
   "metadata": {},
   "outputs": [
    {
     "name": "stdout",
     "output_type": "stream",
     "text": [
      "(200000, 58)\n",
      "(200000,)\n",
      "1    100000\n",
      "0    100000\n",
      "Name: target, dtype: int64\n"
     ]
    }
   ],
   "source": [
    "X_train_0, y_train_0 = X_train[y_train == 0], y_train[y_train == 0]\n",
    "X_train_1, y_train_1 = X_train[y_train == 1], y_train[y_train == 1]\n",
    "\n",
    "np.random.seed(38017)\n",
    "X_train_0_us = X_train_0.sample(100000)\n",
    "X_train_1_os = X_train_1.sample(100000, replace=True)\n",
    "\n",
    "X_train = pd.concat([X_train_0_us, X_train_1_os], axis=0)\n",
    "y_train = pd.concat([y_train_0[X_train_0_us.index], y_train_1[X_train_1_os.index]])\n",
    "print(X_train.shape)\n",
    "print(y_train.shape)\n",
    "print(y_train.value_counts())"
   ]
  },
  {
   "cell_type": "code",
   "execution_count": 33,
   "metadata": {},
   "outputs": [
    {
     "name": "stdout",
     "output_type": "stream",
     "text": [
      "Index(['target', 'ps_car_13', 'ps_car_12', 'ps_reg_02', 'ps_reg_03'], dtype='object')\n",
      "Index(['ps_calc_09', 'ps_calc_07', 'ps_calc_05', 'ps_calc_11', 'ps_calc_04'], dtype='object')\n"
     ]
    }
   ],
   "source": [
    "l1 = np.abs(pd.concat([X_train[numeric_cols], y_train], axis=1).corr()).nlargest(5, 'target')['target'].index\n",
    "s1 = np.abs(pd.concat([X_train[numeric_cols], y_train], axis=1).corr()).nsmallest(5, 'target')['target'].index\n",
    "\n",
    "print(l1)\n",
    "print(s1)"
   ]
  },
  {
   "cell_type": "code",
   "execution_count": 34,
   "metadata": {},
   "outputs": [
    {
     "data": {
      "image/png": "[encoded data removed]",
      "text/plain": [
       "<Figure size 720x432 with 2 Axes>"
      ]
     },
     "metadata": {
      "needs_background": "light"
     },
     "output_type": "display_data"
    }
   ],
   "source": [
    "# c1 = pd.concat([X_train[numeric_cols], y_train], axis=1).corr().nlargest(5, 'target')\n",
    "cm = pd.concat([X_train[numeric_cols + bin_columns + cat_columns], y_train], axis=1)[l1].corr()\n",
    "plt.figure(figsize=(10,6))\n",
    "sns.heatmap(cm, annot=True, cmap = 'viridis')\n",
    "plt.show()"
   ]
  },
  {
   "cell_type": "code",
   "execution_count": 35,
   "metadata": {},
   "outputs": [
    {
     "name": "stderr",
     "output_type": "stream",
     "text": [
      "No handles with labels found to put in legend.\n"
     ]
    },
    {
     "data": {
      "image/png": "[encoded data removed]",
      "text/plain": [
       "<Figure size 432x288 with 1 Axes>"
      ]
     },
     "metadata": {
      "needs_background": "light"
     },
     "output_type": "display_data"
    }
   ],
   "source": [
    "target_cnts = y_train.value_counts()\n",
    "plt.figure()\n",
    "sns.barplot(x=['No Claim', 'Claims'], y=target_cnts)\n",
    "plt.legend()\n",
    "plt.show()"
   ]
  },
  {
   "cell_type": "code",
   "execution_count": 36,
   "metadata": {},
   "outputs": [
    {
     "name": "stdout",
     "output_type": "stream",
     "text": [
      "<class 'pandas.core.frame.DataFrame'>\n",
      "Int64Index: 200000 entries, 457163 to 590862\n",
      "Data columns (total 58 columns):\n",
      " #   Column          Non-Null Count   Dtype  \n",
      "---  ------          --------------   -----  \n",
      " 0   id              200000 non-null  object \n",
      " 1   ps_ind_01       200000 non-null  int64  \n",
      " 2   ps_ind_02_cat   199750 non-null  object \n",
      " 3   ps_ind_03       200000 non-null  int64  \n",
      " 4   ps_ind_04_cat   199825 non-null  object \n",
      " 5   ps_ind_05_cat   196994 non-null  object \n",
      " 6   ps_ind_06_bin   200000 non-null  int64  \n",
      " 7   ps_ind_07_bin   200000 non-null  int64  \n",
      " 8   ps_ind_08_bin   200000 non-null  int64  \n",
      " 9   ps_ind_09_bin   200000 non-null  int64  \n",
      " 10  ps_ind_10_bin   200000 non-null  int64  \n",
      " 11  ps_ind_11_bin   200000 non-null  int64  \n",
      " 12  ps_ind_12_bin   200000 non-null  int64  \n",
      " 13  ps_ind_13_bin   200000 non-null  int64  \n",
      " 14  ps_ind_14       200000 non-null  int64  \n",
      " 15  ps_ind_15       200000 non-null  int64  \n",
      " 16  ps_ind_16_bin   200000 non-null  int64  \n",
      " 17  ps_ind_17_bin   200000 non-null  int64  \n",
      " 18  ps_ind_18_bin   200000 non-null  int64  \n",
      " 19  ps_reg_01       200000 non-null  float64\n",
      " 20  ps_reg_02       200000 non-null  float64\n",
      " 21  ps_reg_03       167721 non-null  float64\n",
      " 22  ps_car_01_cat   199819 non-null  object \n",
      " 23  ps_car_02_cat   200000 non-null  object \n",
      " 24  ps_car_03_cat   68762 non-null   object \n",
      " 25  ps_car_04_cat   200000 non-null  object \n",
      " 26  ps_car_05_cat   116409 non-null  object \n",
      " 27  ps_car_06_cat   200000 non-null  object \n",
      " 28  ps_car_07_cat   194180 non-null  object \n",
      " 29  ps_car_08_cat   200000 non-null  object \n",
      " 30  ps_car_09_cat   199652 non-null  object \n",
      " 31  ps_car_10_cat   200000 non-null  object \n",
      " 32  ps_car_11_cat   200000 non-null  object \n",
      " 33  ps_car_11       199999 non-null  float64\n",
      " 34  ps_car_12       200000 non-null  float64\n",
      " 35  ps_car_13       200000 non-null  float64\n",
      " 36  ps_car_14       185261 non-null  float64\n",
      " 37  ps_car_15       200000 non-null  float64\n",
      " 38  ps_calc_01      200000 non-null  float64\n",
      " 39  ps_calc_02      200000 non-null  float64\n",
      " 40  ps_calc_03      200000 non-null  float64\n",
      " 41  ps_calc_04      200000 non-null  int64  \n",
      " 42  ps_calc_05      200000 non-null  int64  \n",
      " 43  ps_calc_06      200000 non-null  int64  \n",
      " 44  ps_calc_07      200000 non-null  int64  \n",
      " 45  ps_calc_08      200000 non-null  int64  \n",
      " 46  ps_calc_09      200000 non-null  int64  \n",
      " 47  ps_calc_10      200000 non-null  int64  \n",
      " 48  ps_calc_11      200000 non-null  int64  \n",
      " 49  ps_calc_12      200000 non-null  int64  \n",
      " 50  ps_calc_13      200000 non-null  int64  \n",
      " 51  ps_calc_14      200000 non-null  int64  \n",
      " 52  ps_calc_15_bin  200000 non-null  int64  \n",
      " 53  ps_calc_16_bin  200000 non-null  int64  \n",
      " 54  ps_calc_17_bin  200000 non-null  int64  \n",
      " 55  ps_calc_18_bin  200000 non-null  int64  \n",
      " 56  ps_calc_19_bin  200000 non-null  int64  \n",
      " 57  ps_calc_20_bin  200000 non-null  int64  \n",
      "dtypes: float64(11), int64(32), object(15)\n",
      "memory usage: 90.0+ MB\n"
     ]
    }
   ],
   "source": [
    "# X_train[numeric_cols].isna().sum() / X_train.shape[0]\n",
    "X_train.info()"
   ]
  },
  {
   "cell_type": "code",
   "execution_count": 34,
   "metadata": {
    "collapsed": true,
    "jupyter": {
     "outputs_hidden": true
    }
   },
   "outputs": [
    {
     "name": "stdout",
     "output_type": "stream",
     "text": [
      "    target\n",
      "12       0\n",
      "22       0\n",
      "26       0\n",
      "27       0\n",
      "28       1\n",
      "    id  ps_ind_01 ps_ind_02_cat  ps_ind_03 ps_ind_04_cat ps_ind_05_cat  \\\n",
      "12  36          2             1          1             1             0   \n",
      "22  72          5             3          6             1             3   \n",
      "26  79          0             1          4             1             0   \n",
      "27  80          4             1          6             0             0   \n",
      "28  84          0             2          0             1             4   \n",
      "\n",
      "    ps_ind_06_bin  ps_ind_07_bin  ps_ind_08_bin  ps_ind_09_bin  ...  \\\n",
      "12              0              0              1              0  ...   \n",
      "22              0              1              0              0  ...   \n",
      "26              0              0              1              0  ...   \n",
      "27              0              0              0              1  ...   \n",
      "28              1              0              0              0  ...   \n",
      "\n",
      "    ps_calc_11  ps_calc_12  ps_calc_13  ps_calc_14  ps_calc_15_bin  \\\n",
      "12           6           3           3           8               0   \n",
      "22           8           1           3           5               0   \n",
      "26           4           2           4           3               0   \n",
      "27           7           2           2          11               0   \n",
      "28           3           2           0           8               0   \n",
      "\n",
      "    ps_calc_16_bin  ps_calc_17_bin  ps_calc_18_bin  ps_calc_19_bin  \\\n",
      "12               0               1               0               0   \n",
      "22               0               0               0               0   \n",
      "26               1               1               1               0   \n",
      "27               1               0               1               0   \n",
      "28               1               1               0               0   \n",
      "\n",
      "    ps_calc_20_bin  \n",
      "12               1  \n",
      "22               1  \n",
      "26               1  \n",
      "27               0  \n",
      "28               0  \n",
      "\n",
      "[5 rows x 58 columns]\n"
     ]
    }
   ],
   "source": [
    "print(y_train.to_frame().sort_index().head())\n",
    "print(X_train.sort_index().head())"
   ]
  },
  {
   "cell_type": "code",
   "execution_count": 37,
   "metadata": {},
   "outputs": [
    {
     "data": {
      "text/plain": [
       "59"
      ]
     },
     "execution_count": 37,
     "metadata": {},
     "output_type": "execute_result"
    }
   ],
   "source": [
    "train_full = pd.concat([X_train, y_train], axis = 1)\n",
    "len(train_full.columns)"
   ]
  },
  {
   "cell_type": "code",
   "execution_count": 20,
   "metadata": {},
   "outputs": [
    {
     "name": "stderr",
     "output_type": "stream",
     "text": [
      "No handles with labels found to put in legend.\n"
     ]
    },
    {
     "data": {
      "text/plain": [
       "<Figure size 1080x1296 with 0 Axes>"
      ]
     },
     "metadata": {},
     "output_type": "display_data"
    },
    {
     "data": {
      "image/png": "[encoded data removed]",
      "text/plain": [
       "<Figure size 432x288 with 4 Axes>"
      ]
     },
     "metadata": {
      "needs_background": "light"
     },
     "output_type": "display_data"
    }
   ],
   "source": [
    "plt.figure(figsize=(15, 18))\n",
    "fig, ax = plt.subplots(2,2)\n",
    "\n",
    "for ix, col in enumerate(numeric_cols[:4]):\n",
    "    ix1 = ix%2\n",
    "    ix2 = [0,1,1,0][ix]\n",
    "#     if ix > 1:\n",
    "#         ix1 = np.abs(ix - 2)\n",
    "#         ix2 = np.abs(1 - ix1)\n",
    "    sns.barplot(train['target'], train[col], ax=ax[ix1][ix2])\n",
    "\n",
    "plt.legend()\n",
    "plt.show()"
   ]
  },
  {
   "cell_type": "markdown",
   "metadata": {},
   "source": [
    "#### Reduce levels of ps_car_11_cat based on Proportion or ChiSq"
   ]
  },
  {
   "cell_type": "code",
   "execution_count": 38,
   "metadata": {},
   "outputs": [],
   "source": [
    "from sklearn.pipeline import TransformerMixin"
   ]
  },
  {
   "cell_type": "code",
   "execution_count": 39,
   "metadata": {},
   "outputs": [],
   "source": [
    "class concat_levels(TransformerMixin):\n",
    "    def __init__(self, col_levels):\n",
    "        self.col_levels = col_levels\n",
    "        \n",
    "    def fit(self):\n",
    "        return self\n",
    "\n",
    "    def merge_levels(self, x, levels):\n",
    "        for level in levels:\n",
    "            if x in level:\n",
    "                return level[0]    \n",
    "        return x\n",
    "\n",
    "    def transform(self, df):\n",
    "        for col, levels in self.col_levels:\n",
    "            df[col] = df[col].apply(lambda x: self.merge_levels(x, levels))\n",
    "        return df"
   ]
  },
  {
   "cell_type": "code",
   "execution_count": 41,
   "metadata": {},
   "outputs": [],
   "source": [
    "ps_car_11_cat_mg_levels = [[99,39],[95,19],[53,10],[22, 16, 29],[37,77],[102,87],[96,30],[49,24],[68,98],[31,92],[6,51],[83,101,12],[25,1,50],[46,81,2,34],[13,104],[89,17],[33,71]]\n",
    "col_levels = [('ps_car_11_cat', ps_car_11_cat_mg_levels)]"
   ]
  },
  {
   "cell_type": "code",
   "execution_count": 43,
   "metadata": {},
   "outputs": [
    {
     "name": "stdout",
     "output_type": "stream",
     "text": [
      "(104,)\n"
     ]
    }
   ],
   "source": [
    "#Test the custom Transformer\n",
    "ctran = concat_levels(col_levels)\n",
    "ctran.fit()\n",
    "output = ctran.transform(train_full)\n",
    "print(output['ps_car_11_cat'].value_counts().shape)"
   ]
  },
  {
   "cell_type": "code",
   "execution_count": 475,
   "metadata": {
    "scrolled": true
   },
   "outputs": [
    {
     "data": {
      "text/plain": [
       "<Figure size 432x288 with 0 Axes>"
      ]
     },
     "metadata": {},
     "output_type": "display_data"
    },
    {
     "data": {
      "image/png": "[encoded data removed]",
      "text/plain": [
       "<Figure size 432x288 with 2 Axes>"
      ]
     },
     "metadata": {
      "needs_background": "light"
     },
     "output_type": "display_data"
    },
    {
     "data": {
      "text/plain": [
       "<Figure size 432x288 with 0 Axes>"
      ]
     },
     "metadata": {},
     "output_type": "display_data"
    },
    {
     "data": {
      "image/png": "[encoded data removed]",
      "text/plain": [
       "<Figure size 432x288 with 2 Axes>"
      ]
     },
     "metadata": {
      "needs_background": "light"
     },
     "output_type": "display_data"
    },
    {
     "data": {
      "text/plain": [
       "<Figure size 432x288 with 0 Axes>"
      ]
     },
     "metadata": {},
     "output_type": "display_data"
    },
    {
     "data": {
      "image/png": "[encoded data removed]",
      "text/plain": [
       "<Figure size 432x288 with 2 Axes>"
      ]
     },
     "metadata": {
      "needs_background": "light"
     },
     "output_type": "display_data"
    },
    {
     "data": {
      "text/plain": [
       "<Figure size 432x288 with 0 Axes>"
      ]
     },
     "metadata": {},
     "output_type": "display_data"
    },
    {
     "data": {
      "image/png": "[encoded data removed]",
      "text/plain": [
       "<Figure size 432x288 with 2 Axes>"
      ]
     },
     "metadata": {
      "needs_background": "light"
     },
     "output_type": "display_data"
    },
    {
     "data": {
      "text/plain": [
       "<Figure size 432x288 with 0 Axes>"
      ]
     },
     "metadata": {},
     "output_type": "display_data"
    },
    {
     "data": {
      "image/png": "[encoded data removed]",
      "text/plain": [
       "<Figure size 432x288 with 2 Axes>"
      ]
     },
     "metadata": {
      "needs_background": "light"
     },
     "output_type": "display_data"
    },
    {
     "data": {
      "text/plain": [
       "<Figure size 432x288 with 0 Axes>"
      ]
     },
     "metadata": {},
     "output_type": "display_data"
    },
    {
     "data": {
      "image/png": "[encoded data removed]",
      "text/plain": [
       "<Figure size 432x288 with 2 Axes>"
      ]
     },
     "metadata": {
      "needs_background": "light"
     },
     "output_type": "display_data"
    },
    {
     "data": {
      "text/plain": [
       "<Figure size 432x288 with 0 Axes>"
      ]
     },
     "metadata": {},
     "output_type": "display_data"
    },
    {
     "data": {
      "image/png": "[encoded data removed]",
      "text/plain": [
       "<Figure size 432x288 with 2 Axes>"
      ]
     },
     "metadata": {
      "needs_background": "light"
     },
     "output_type": "display_data"
    }
   ],
   "source": [
    "# plt.figure(figsize=(45, 15))\n",
    "for iter1 in range(7):\n",
    "    plt.figure()\n",
    "    fig, ax = plt.subplots(2)\n",
    "    \n",
    "    for i in range(2):\n",
    "#         for j in range(2):\n",
    "            cur_col_ix = iter1 * 2 + i\n",
    "            sns.barplot(x = cat_columns[cur_col_ix], y='target', data = train_bs, ax=ax[i])\n",
    "            plt.xlabel(cat_columns[cur_col_ix])\n",
    "    # plt.show()\n",
    "    plt.savefig(os.path.join(graph_path, 'bar_plot_{}.png'.format(iter1)))\n",
    "    "
   ]
  },
  {
   "cell_type": "code",
   "execution_count": 34,
   "metadata": {
    "collapsed": true,
    "jupyter": {
     "outputs_hidden": true
    }
   },
   "outputs": [
    {
     "data": {
      "text/plain": [
       "['ps_ind_06_bin',\n",
       " 'ps_ind_07_bin',\n",
       " 'ps_ind_08_bin',\n",
       " 'ps_ind_09_bin',\n",
       " 'ps_ind_10_bin',\n",
       " 'ps_ind_11_bin',\n",
       " 'ps_ind_12_bin',\n",
       " 'ps_ind_13_bin',\n",
       " 'ps_ind_16_bin',\n",
       " 'ps_ind_17_bin',\n",
       " 'ps_ind_18_bin',\n",
       " 'ps_calc_15_bin',\n",
       " 'ps_calc_16_bin',\n",
       " 'ps_calc_17_bin',\n",
       " 'ps_calc_18_bin',\n",
       " 'ps_calc_19_bin',\n",
       " 'ps_calc_20_bin']"
      ]
     },
     "execution_count": 34,
     "metadata": {},
     "output_type": "execute_result"
    }
   ],
   "source": [
    "bin_columns"
   ]
  },
  {
   "cell_type": "markdown",
   "metadata": {},
   "source": [
    "### Bar plots of all categorical Variable"
   ]
  },
  {
   "cell_type": "code",
   "execution_count": null,
   "metadata": {},
   "outputs": [],
   "source": [
    "for iter1 in range(7):\n",
    "    plt.figure()\n",
    "    fig, ax = plt.subplots(2)\n",
    "    \n",
    "    for i in range(2):\n",
    "#         for j in range(2):\n",
    "            cur_col_ix = iter1 * 2 + i\n",
    "            sns.barplot(x = cat_columns[cur_col_ix], y='target', data = train_bs, ax=ax[i])\n",
    "            plt.xlabel(cat_columns[cur_col_ix])\n",
    "    # plt.show()\n",
    "    plt.savefig(os.path.join(graph_path, 'bar_plot_{}.png'.format(iter1)))\n"
   ]
  },
  {
   "cell_type": "markdown",
   "metadata": {},
   "source": [
    "### Univariate Screening\n"
   ]
  },
  {
   "cell_type": "code",
   "execution_count": 44,
   "metadata": {},
   "outputs": [],
   "source": [
    "from scipy.stats import f_oneway\n",
    "from scipy.stats import chi2_contingency"
   ]
  },
  {
   "cell_type": "code",
   "execution_count": 45,
   "metadata": {},
   "outputs": [
    {
     "name": "stdout",
     "output_type": "stream",
     "text": [
      "Column: ps_calc_03, p-value: 0.0650\n",
      "Column: ps_calc_04, p-value: 0.7849\n",
      "Column: ps_calc_05, p-value: 0.8381\n",
      "Column: ps_calc_06, p-value: 0.0626\n",
      "Column: ps_calc_07, p-value: 0.8710\n",
      "Column: ps_calc_08, p-value: 0.1847\n",
      "Column: ps_calc_09, p-value: 0.9126\n",
      "Column: ps_calc_10, p-value: 0.5656\n",
      "Column: ps_calc_11, p-value: 0.8304\n",
      "Column: ps_calc_12, p-value: 0.1607\n",
      "Column: ps_calc_13, p-value: 0.5788\n"
     ]
    }
   ],
   "source": [
    "uni_num_var = pd.DataFrame()\n",
    "irr_numeric_var = pd.DataFrame()\n",
    "for col in numeric_cols:\n",
    "    tar_0 = train_full.loc[train_full.target == 0, col]\n",
    "    tar_1 = train_full.loc[train_full.target == 1, col]\n",
    "    \n",
    "    f, p = f_oneway(tar_0, tar_1)\n",
    "    ftest = {'col':col, 'p-value':round(p,4)}\n",
    "    uni_num_var = uni_num_var.append(ftest, ignore_index=True)\n",
    "    if p > 0.05: \n",
    "        print(f'Column: {col}, p-value: {p:.4f}')\n",
    "        irr_numeric_var = irr_numeric_var.append(ftest, ignore_index=True)"
   ]
  },
  {
   "cell_type": "code",
   "execution_count": 46,
   "metadata": {},
   "outputs": [],
   "source": [
    "fil_numeric_var = [col for col in numeric_cols if col not in irr_numeric_var]"
   ]
  },
  {
   "cell_type": "markdown",
   "metadata": {},
   "source": [
    "### Categorical Variable screening"
   ]
  },
  {
   "cell_type": "code",
   "execution_count": 47,
   "metadata": {},
   "outputs": [
    {
     "name": "stdout",
     "output_type": "stream",
     "text": [
      "ps_car_05_cat: 0.5743\n",
      "ps_car_10_cat: 0.2705\n",
      "ps_ind_13_bin: 0.5705\n",
      "ps_calc_15_bin: 0.3372\n",
      "ps_calc_16_bin: 0.9668\n",
      "ps_calc_17_bin: 0.5894\n",
      "ps_calc_18_bin: 0.5668\n",
      "ps_calc_19_bin: 0.0588\n"
     ]
    }
   ],
   "source": [
    "uni_cat_var = pd.DataFrame()\n",
    "irr_cat_var = pd.DataFrame()\n",
    "\n",
    "for col in cat_columns + bin_columns:\n",
    "    t = pd.crosstab(X_train[col], y_train)\n",
    "    chisqval, pval, dof, expctd = chi2_contingency(t)\n",
    "    chidict = {'col':col, 'p-val':pval}\n",
    "    if pval > 0.05:\n",
    "        print(f'{col}: {pval:.4f}')\n",
    "        irr_cat_var = irr_cat_var.append(chidict, ignore_index=True)\n",
    "    uni_cat_var = uni_cat_var.append(chidict, ignore_index=True)\n"
   ]
  },
  {
   "cell_type": "code",
   "execution_count": 48,
   "metadata": {},
   "outputs": [
    {
     "name": "stdout",
     "output_type": "stream",
     "text": [
      "14 12 17 11\n"
     ]
    }
   ],
   "source": [
    "fil_cat_columns = [col for col in cat_columns if col not in irr_cat_var.col.tolist()]\n",
    "fil_bin_columns = [col for col in bin_columns if col not in irr_cat_var.col.tolist()]\n",
    "print(len(cat_columns), len(fil_cat_columns), len(bin_columns), len(fil_bin_columns))"
   ]
  },
  {
   "cell_type": "code",
   "execution_count": 174,
   "metadata": {},
   "outputs": [],
   "source": [
    "# from packages.decomposition.base_class import BaseDecompositionClass\n",
    "from packages.decomposition.var_clus import VarClus"
   ]
  },
  {
   "cell_type": "code",
   "execution_count": 42,
   "metadata": {
    "collapsed": true,
    "jupyter": {
     "outputs_hidden": true
    }
   },
   "outputs": [
    {
     "name": "stdout",
     "output_type": "stream",
     "text": [
      "<class 'pandas.core.frame.DataFrame'>\n",
      "Int64Index: 200000 entries, 457163 to 590862\n",
      "Data columns (total 57 columns):\n",
      "ps_ind_02_cat     199750 non-null object\n",
      "ps_ind_04_cat     199825 non-null object\n",
      "ps_ind_05_cat     196994 non-null object\n",
      "ps_car_01_cat     199819 non-null object\n",
      "ps_car_02_cat     200000 non-null object\n",
      "ps_car_03_cat     68762 non-null object\n",
      "ps_car_04_cat     200000 non-null object\n",
      "ps_car_05_cat     116409 non-null object\n",
      "ps_car_06_cat     200000 non-null object\n",
      "ps_car_07_cat     194180 non-null object\n",
      "ps_car_08_cat     200000 non-null object\n",
      "ps_car_09_cat     199652 non-null object\n",
      "ps_car_10_cat     200000 non-null object\n",
      "ps_car_11_cat     200000 non-null int64\n",
      "ps_ind_06_bin     200000 non-null int64\n",
      "ps_ind_07_bin     200000 non-null int64\n",
      "ps_ind_08_bin     200000 non-null int64\n",
      "ps_ind_09_bin     200000 non-null int64\n",
      "ps_ind_10_bin     200000 non-null int64\n",
      "ps_ind_11_bin     200000 non-null int64\n",
      "ps_ind_12_bin     200000 non-null int64\n",
      "ps_ind_13_bin     200000 non-null int64\n",
      "ps_ind_16_bin     200000 non-null int64\n",
      "ps_ind_17_bin     200000 non-null int64\n",
      "ps_ind_18_bin     200000 non-null int64\n",
      "ps_calc_15_bin    200000 non-null int64\n",
      "ps_calc_16_bin    200000 non-null int64\n",
      "ps_calc_17_bin    200000 non-null int64\n",
      "ps_calc_18_bin    200000 non-null int64\n",
      "ps_calc_19_bin    200000 non-null int64\n",
      "ps_calc_20_bin    200000 non-null int64\n",
      "ps_ind_01         200000 non-null int64\n",
      "ps_ind_03         200000 non-null int64\n",
      "ps_ind_14         200000 non-null int64\n",
      "ps_ind_15         200000 non-null int64\n",
      "ps_reg_01         200000 non-null float64\n",
      "ps_reg_02         200000 non-null float64\n",
      "ps_reg_03         167721 non-null float64\n",
      "ps_car_11         199999 non-null float64\n",
      "ps_car_12         200000 non-null float64\n",
      "ps_car_13         200000 non-null float64\n",
      "ps_car_14         185261 non-null float64\n",
      "ps_car_15         200000 non-null float64\n",
      "ps_calc_01        200000 non-null float64\n",
      "ps_calc_02        200000 non-null float64\n",
      "ps_calc_03        200000 non-null float64\n",
      "ps_calc_04        200000 non-null int64\n",
      "ps_calc_05        200000 non-null int64\n",
      "ps_calc_06        200000 non-null int64\n",
      "ps_calc_07        200000 non-null int64\n",
      "ps_calc_08        200000 non-null int64\n",
      "ps_calc_09        200000 non-null int64\n",
      "ps_calc_10        200000 non-null int64\n",
      "ps_calc_11        200000 non-null int64\n",
      "ps_calc_12        200000 non-null int64\n",
      "ps_calc_13        200000 non-null int64\n",
      "ps_calc_14        200000 non-null int64\n",
      "dtypes: float64(11), int64(33), object(13)\n",
      "memory usage: 88.5+ MB\n"
     ]
    }
   ],
   "source": [
    "X_train[cat_columns + bin_columns + numeric_cols].info()"
   ]
  },
  {
   "cell_type": "code",
   "execution_count": 175,
   "metadata": {
    "collapsed": true,
    "jupyter": {
     "outputs_hidden": true
    }
   },
   "outputs": [
    {
     "name": "stderr",
     "output_type": "stream",
     "text": [
      "C:\\Users\\mysel\\OneDrive\\Documents\\Shan\\Side Projects\\Kaggle\\SafeDriverProtection\\packages\\decomposition\\var_clus.py:431: DataConversionWarning: Data with input dtype int64, float64 were all converted to float64 by the scale function.\n",
      "  scaled_dataframe = pd.DataFrame(scale(dataframe), columns=dataframe.columns)\n"
     ]
    },
    {
     "name": "stdout",
     "output_type": "stream",
     "text": [
      "decomposing cluster cluster-0\n",
      "phase #1: NCS\n",
      "phase #2: Search\n",
      "assessing feature ps_calc_01\n",
      "current EV is 4.245518970536238, new EV is 4.245489432479433\n",
      "assessing feature ps_calc_02\n",
      "current EV is 4.245518970536238, new EV is 4.245523901699171\n",
      "Feature ps_calc_02 was re-assigned\n",
      "cluster-0-0 has 14 features and name_1 has 12 features\n",
      "assessing feature ps_calc_03\n",
      "current EV is 4.245523901699171, new EV is 4.245506129545227\n",
      "assessing feature ps_calc_08\n",
      "current EV is 4.245523901699171, new EV is 4.24552602576991\n",
      "Feature ps_calc_08 was re-assigned\n",
      "cluster-0-0 has 13 features and name_1 has 13 features\n",
      "assessing feature ps_calc_10\n",
      "current EV is 4.24552602576991, new EV is 4.245319713610473\n",
      "Number of max tries has been reached. Returning current result...\n",
      "decomposing cluster cluster-0-0\n",
      "phase #1: NCS\n",
      "phase #2: Search\n",
      "assessing feature ps_calc_03\n",
      "current EV is 3.402119738303348, new EV is 3.4021333398637674\n",
      "Feature ps_calc_03 was re-assigned\n",
      "cluster-0-0-0 has 5 features and name_1 has 8 features\n",
      "assessing feature ps_calc_13\n",
      "current EV is 3.4021333398637674, new EV is 3.402000588980722\n",
      "assessing feature ps_calc_14\n",
      "current EV is 3.4021333398637674, new EV is 3.4019364241343686\n",
      "assessing feature ps_car_12\n",
      "current EV is 3.4021333398637674, new EV is 2.8027665742705308\n",
      "Number of max tries has been reached. Returning current result...\n",
      "decomposing cluster cluster-0-0-0\n",
      "phase #1: NCS\n",
      "phase #2: Search\n",
      "assessing feature ps_car_12\n",
      "current EV is 3.1659468910476507, new EV is 2.4696038748246596\n",
      "assessing feature ps_car_13\n",
      "current EV is 3.1659468910476507, new EV is 2.6061571422600456\n",
      "assessing feature ps_car_14\n",
      "current EV is 3.1659468910476507, new EV is 2.7024853793218218\n",
      "Number of max tries has been reached. Returning current result...\n",
      "decomposing cluster cluster-0-0-1\n",
      "phase #1: NCS\n",
      "phase #2: Search\n",
      "assessing feature ps_ind_01\n",
      "Number of features is smaller than n_split, reducing n_split temporarily\n",
      "current EV is 2.3223844271607685, new EV is 2.1008705565425156\n",
      "assessing feature ps_ind_03\n",
      "Number of features is smaller than n_split, reducing n_split temporarily\n",
      "current EV is 2.3223844271607685, new EV is 2.1253568323381926\n",
      "assessing feature ps_calc_01\n",
      "current EV is 2.3223844271607685, new EV is 2.3224635526506523\n",
      "Feature ps_calc_01 was re-assigned\n",
      "cluster-0-0-1-1 has 5 features and name_1 has 3 features\n",
      "assessing feature ps_calc_03\n",
      "current EV is 2.3224635526506523, new EV is 2.3222521634273314\n",
      "Number of max tries has been reached. Returning current result...\n",
      "decomposing cluster cluster-0-0-1-1\n",
      "phase #1: NCS\n",
      "phase #2: Search\n",
      "assessing feature ps_calc_10\n",
      "current EV is 2.1084274461477968, new EV is 2.107321859133261\n",
      "assessing feature ps_car_11\n",
      "current EV is 2.1084274461477968, new EV is 2.0221572063641444\n",
      "assessing feature ps_car_15\n",
      "current EV is 2.1084274461477968, new EV is 2.0153112191519633\n",
      "Number of max tries has been reached. Returning current result...\n",
      "decomposing cluster cluster-0-1\n",
      "phase #1: NCS\n",
      "phase #2: Search\n",
      "assessing feature ps_calc_05\n",
      "current EV is 3.0497127482719035, new EV is 3.049591419534039\n",
      "assessing feature ps_reg_01\n",
      "current EV is 3.0497127482719035, new EV is 2.8714831939150818\n",
      "assessing feature ps_reg_02\n",
      "current EV is 3.0497127482719035, new EV is 2.3015810817312037\n",
      "Number of max tries has been reached. Returning current result...\n",
      "decomposing cluster cluster-0-1-0\n",
      "phase #1: NCS\n",
      "Number of features is smaller than n_split, reducing n_split temporarily\n",
      "phase #2: Search\n",
      "assessing feature ps_reg_01\n",
      "Number of features is smaller than n_split, reducing n_split temporarily\n",
      "current EV is 2.9290211389412475, new EV is 2.747832174079581\n",
      "assessing feature ps_reg_02\n",
      "current EV is 2.9290211389412475, new EV is 2.1892746142168558\n",
      "assessing feature ps_reg_03\n",
      "current EV is 2.9290211389412475, new EV is 2.410449117651918\n",
      "Number of max tries has been reached. Returning current result...\n",
      "decomposing cluster cluster-0-1-1\n",
      "phase #1: NCS\n",
      "phase #2: Search\n",
      "assessing feature ps_calc_04\n",
      "current EV is 2.1376546948618103, new EV is 2.1368907671941186\n",
      "assessing feature ps_ind_14\n",
      "current EV is 2.1376546948618103, new EV is 2.026685725060077\n",
      "assessing feature ps_ind_15\n",
      "current EV is 2.1376546948618103, new EV is 2.0355371619749034\n",
      "Number of max tries has been reached. Returning current result...\n",
      "decomposing cluster cluster-0-1-1-1\n",
      "phase #1: NCS\n",
      "Number of features is smaller than n_split, reducing n_split temporarily\n",
      "phase #2: Search\n",
      "assessing feature ps_calc_02\n",
      "Number of features is smaller than n_split, reducing n_split temporarily\n",
      "current EV is 2.0198843512470828, new EV is 2.0120440435047025\n",
      "assessing feature ps_calc_06\n",
      "current EV is 2.0198843512470828, new EV is 2.0249240217808016\n",
      "Feature ps_calc_06 was re-assigned\n",
      "cluster-0-1-1-1-0 has 4 features and name_1 has 2 features\n",
      "assessing feature ps_calc_07\n",
      "current EV is 2.0249240217808016, new EV is 2.025901253158481\n",
      "Feature ps_calc_07 was re-assigned\n",
      "cluster-0-1-1-1-0 has 3 features and name_1 has 3 features\n",
      "assessing feature ps_calc_08\n",
      "current EV is 2.025901253158481, new EV is 2.015220605215187\n",
      "assessing feature ps_calc_09\n",
      "current EV is 2.025901253158481, new EV is 2.0259569072439643\n",
      "Feature ps_calc_09 was re-assigned\n",
      "cluster-0-1-1-1-0 has 2 features and name_1 has 4 features\n",
      "assessing feature ps_calc_11\n",
      "current EV is 2.0259569072439643, new EV is 2.0264728277497897\n",
      "Feature ps_calc_11 was re-assigned\n",
      "cluster-0-1-1-1-1 has 3 features and name_1 has 3 features\n",
      "assessing feature ps_calc_06\n",
      "current EV is 2.0264728277497897, new EV is 2.0207018659457683\n",
      "Number of max tries has been reached. Returning current result...\n",
      "decomposing cluster cluster-0-1-1-1-0\n",
      "phase #1: NCS\n",
      "Number of features is smaller than n_split, reducing n_split temporarily\n",
      "phase #2: Search\n",
      "assessing feature ps_calc_02\n",
      "Number of features is smaller than n_split, reducing n_split temporarily\n",
      "Number of features is smaller than n_split, reducing n_split temporarily\n",
      "current EV is 2.013383687837667, new EV is 2.00058724882086\n",
      "assessing feature ps_calc_08\n",
      "Number of features is smaller than n_split, reducing n_split temporarily\n",
      "current EV is 2.013383687837667, new EV is 2.00737576431591\n"
     ]
    },
    {
     "data": {
      "text/plain": [
       "<packages.decomposition.var_clus.Cluster at 0x1f51ebff630>"
      ]
     },
     "execution_count": 175,
     "metadata": {},
     "output_type": "execute_result"
    }
   ],
   "source": [
    "clus = VarClus()\n",
    "\n",
    "clus.decompose(X_train[numeric_cols].dropna())"
   ]
  },
  {
   "cell_type": "code",
   "execution_count": 177,
   "metadata": {
    "collapsed": true,
    "jupyter": {
     "outputs_hidden": true
    }
   },
   "outputs": [
    {
     "name": "stdout",
     "output_type": "stream",
     "text": [
      "cluster-0\n",
      "|\n",
      "|-----cluster-0-0\n",
      "|     |\n",
      "|     |-----cluster-0-0-0\n",
      "|     |     |\n",
      "|     |     |-----cluster-0-0-0-0\n",
      "|     |     |     |-----ps_car_12\n",
      "|     |     |     |-----ps_car_13\n",
      "|     |     |     |-----ps_car_14\n",
      "|     |     |\n",
      "|     |     |-----cluster-0-0-0-1\n",
      "|     |           |-----ps_calc_13\n",
      "|     |           |-----ps_calc_14\n",
      "|     |\n",
      "|     |-----cluster-0-0-1\n",
      "|           |\n",
      "|           |-----cluster-0-0-1-0\n",
      "|           |     |-----ps_ind_01\n",
      "|           |     |-----ps_ind_03\n",
      "|           |     |-----ps_calc_01\n",
      "|           |\n",
      "|           |-----cluster-0-0-1-1\n",
      "|                 |\n",
      "|                 |-----cluster-0-0-1-1-0\n",
      "|                 |     |-----ps_calc_10\n",
      "|                 |     |-----ps_car_11\n",
      "|                 |     |-----ps_car_15\n",
      "|                 |\n",
      "|                 |-----cluster-0-0-1-1-1\n",
      "|                       |-----ps_calc_03\n",
      "|                       |-----ps_calc_12\n",
      "|\n",
      "|-----cluster-0-1\n",
      "      |\n",
      "      |-----cluster-0-1-0\n",
      "      |     |\n",
      "      |     |-----cluster-0-1-0-0\n",
      "      |     |     |-----ps_reg_01\n",
      "      |     |     |-----ps_reg_02\n",
      "      |     |     |-----ps_reg_03\n",
      "      |     |\n",
      "      |     |-----cluster-0-1-0-1\n",
      "      |           |-----ps_calc_05\n",
      "      |\n",
      "      |-----cluster-0-1-1\n",
      "            |\n",
      "            |-----cluster-0-1-1-0\n",
      "            |     |-----ps_calc_04\n",
      "            |     |-----ps_ind_14\n",
      "            |     |-----ps_ind_15\n",
      "            |\n",
      "            |-----cluster-0-1-1-1\n",
      "                  |\n",
      "                  |-----cluster-0-1-1-1-0\n",
      "                  |     |\n",
      "                  |     |-----cluster-0-1-1-1-0-0\n",
      "                  |     |     |-----ps_calc_02\n",
      "                  |     |     |-----ps_calc_08\n",
      "                  |     |\n",
      "                  |     |-----cluster-0-1-1-1-0-1\n",
      "                  |           |-----ps_calc_11\n",
      "                  |\n",
      "                  |-----cluster-0-1-1-1-1\n",
      "                        |-----ps_calc_06\n",
      "                        |-----ps_calc_07\n",
      "                        |-----ps_calc_09\n"
     ]
    }
   ],
   "source": [
    "clus.print_cluster_structure()"
   ]
  },
  {
   "cell_type": "markdown",
   "metadata": {},
   "source": [
    "I was not sure of results of this function, so I used results from SAS varclus procedure, since I'm more used to results of sas varclus procedure"
   ]
  },
  {
   "cell_type": "code",
   "execution_count": 49,
   "metadata": {},
   "outputs": [
    {
     "name": "stdout",
     "output_type": "stream",
     "text": [
      "1    100000\n",
      "0    100000\n",
      "Name: target, dtype: int64\n",
      "(200000, 59) (95234, 59) (119043, 59)\n"
     ]
    }
   ],
   "source": [
    "train_full = pd.concat([X_train, y_train], axis=1)\n",
    "val_full = pd.concat([X_val, y_val], axis=1)\n",
    "test_full = pd.concat([X_test, y_test], axis=1)\n",
    "print(train_full.target.value_counts())\n",
    "print(train_full.shape, val_full.shape, test_full.shape)"
   ]
  },
  {
   "cell_type": "code",
   "execution_count": 50,
   "metadata": {},
   "outputs": [],
   "source": [
    "clus_num_cols_by_variance = ['ps_calc_07', 'ps_calc_11', 'ps_calc_08', 'ps_ind_15', 'ps_calc_05', \n",
    "                  'ps_reg_02', 'ps_calc_12', 'ps_calc_10', 'ps_ind_03', 'ps_calc_14', 'ps_car_13']\n",
    "\n",
    "train_full = pd.concat([X_train, y_train], axis=1)\n",
    "train_full[numeric_cols].var().to_clipboard()\n",
    "train_full[numeric_cols + ['target']].corr()['target'].to_clipboard()"
   ]
  },
  {
   "cell_type": "code",
   "execution_count": 51,
   "metadata": {},
   "outputs": [
    {
     "name": "stdout",
     "output_type": "stream",
     "text": [
      "58\n",
      "Index(['id', 'ps_ind_01', 'ps_ind_02_cat', 'ps_ind_03', 'ps_ind_04_cat',\n",
      "       'ps_ind_05_cat', 'ps_ind_06_bin', 'ps_ind_07_bin', 'ps_ind_08_bin',\n",
      "       'ps_ind_09_bin', 'ps_ind_10_bin', 'ps_ind_11_bin', 'ps_ind_12_bin',\n",
      "       'ps_ind_13_bin', 'ps_ind_14', 'ps_ind_15', 'ps_ind_16_bin',\n",
      "       'ps_ind_17_bin', 'ps_ind_18_bin', 'ps_reg_01', 'ps_reg_02', 'ps_reg_03',\n",
      "       'ps_car_01_cat', 'ps_car_02_cat', 'ps_car_03_cat', 'ps_car_04_cat',\n",
      "       'ps_car_05_cat', 'ps_car_06_cat', 'ps_car_07_cat', 'ps_car_08_cat',\n",
      "       'ps_car_09_cat', 'ps_car_10_cat', 'ps_car_11_cat', 'ps_car_11',\n",
      "       'ps_car_12', 'ps_car_13', 'ps_car_14', 'ps_car_15', 'ps_calc_01',\n",
      "       'ps_calc_02', 'ps_calc_03', 'ps_calc_04', 'ps_calc_05', 'ps_calc_06',\n",
      "       'ps_calc_07', 'ps_calc_08', 'ps_calc_09', 'ps_calc_10', 'ps_calc_11',\n",
      "       'ps_calc_12', 'ps_calc_13', 'ps_calc_14', 'ps_calc_15_bin',\n",
      "       'ps_calc_16_bin', 'ps_calc_17_bin', 'ps_calc_18_bin', 'ps_calc_19_bin',\n",
      "       'ps_calc_20_bin'],\n",
      "      dtype='object')\n"
     ]
    }
   ],
   "source": [
    "print(len(X_train.columns))\n",
    "print(X_train.columns)"
   ]
  },
  {
   "cell_type": "code",
   "execution_count": 56,
   "metadata": {},
   "outputs": [],
   "source": [
    "from sklearn.feature_extraction import DictVectorizer\n",
    "from sklearn.preprocessing import OneHotEncoder\n",
    "from sklearn.pipeline import Pipeline\n",
    "from sklearn.impute import SimpleImputer\n",
    "from sklearn.decomposition import PCA\n",
    "from sklearn.preprocessing import StandardScaler, FunctionTransformer, RobustScaler\n",
    "from sklearn.base import TransformerMixin\n",
    "from sklearn.feature_extraction import DictVectorizer\n",
    "from sklearn.compose import ColumnTransformer\n",
    "from sklearn.impute import MissingIndicator\n"
   ]
  },
  {
   "cell_type": "code",
   "execution_count": 57,
   "metadata": {},
   "outputs": [],
   "source": [
    "class NumCustomTransformer(TransformerMixin):\n",
    "    def __init__(self):\n",
    "        self.si = SimpleImputer(strategy='median')\n",
    "        self.scaler = StandardScaler()\n",
    "        pass\n",
    "\n",
    "    def fit(self, X):\n",
    "        self.feature_names = X.columns\n",
    "        self.orig_columns = X.columns\n",
    "        na_val = X.isna().sum()\n",
    "        self.missing_cols = na_val[na_val > 0].index\n",
    "        self.si.fit(X)\n",
    "        self.scaler.fit(X)\n",
    "        return self\n",
    "\n",
    "    def get_feature_names(self):\n",
    "        return self.feature_names\n",
    "\n",
    "    def transform(self, X):\n",
    "        \n",
    "        #Handle Missing Values\n",
    "        self.feature_names = X.columns\n",
    "        \n",
    "        for col in self.missing_cols:\n",
    "            X.loc[:, col + '_miss'] = X[col].isna().astype(int)\n",
    "\n",
    "        print(f'Numeric Var\\nOriginal Shape: {len(self.feature_names)}')\n",
    "        print(f'After Handling Missing Values, Shape of df: {X.shape}')\n",
    "\n",
    "        self.feature_names = X.columns\n",
    "        \n",
    "        #Handle Imputation\n",
    "        X_enc = self.si.transform(X[self.orig_columns])\n",
    "        print(f'After Imputation Missing Values, Shape of df: {X_enc.shape}')\n",
    "        \n",
    "        #Handle scaling\n",
    "        X_enc = self.scaler.fit_transform(X_enc)\n",
    "        print(f'After Scaling Missing Values, Shape of df: {X_enc.shape}')\n",
    "#         print(X[list(map(lambda x: x + '_miss', missing_cols))].head())\n",
    "        print(list(map(lambda x: x + '_miss', self.missing_cols)))\n",
    "        t = pd.concat([pd.DataFrame(X_enc, columns=self.orig_columns), \n",
    "                       X[list(map(lambda x: x + '_miss', self.missing_cols))].reset_index(drop=True)], axis=1)\n",
    "        print(f'Final Missing + Imputing Values, Shape of df: {t.shape}')\n",
    "        \n",
    "        del X\n",
    "        del X_enc\n",
    "        return t"
   ]
  },
  {
   "cell_type": "code",
   "execution_count": 54,
   "metadata": {
    "collapsed": true,
    "jupyter": {
     "outputs_hidden": true
    }
   },
   "outputs": [
    {
     "name": "stderr",
     "output_type": "stream",
     "text": [
      "C:\\Users\\mysel\\Anaconda3\\lib\\site-packages\\pandas\\core\\indexing.py:845: SettingWithCopyWarning: \n",
      "A value is trying to be set on a copy of a slice from a DataFrame.\n",
      "Try using .loc[row_indexer,col_indexer] = value instead\n",
      "\n",
      "See the caveats in the documentation: https://pandas.pydata.org/pandas-docs/stable/user_guide/indexing.html#returning-a-view-versus-a-copy\n",
      "  self.obj[key] = _infer_fill_value(value)\n",
      "C:\\Users\\mysel\\Anaconda3\\lib\\site-packages\\pandas\\core\\indexing.py:966: SettingWithCopyWarning: \n",
      "A value is trying to be set on a copy of a slice from a DataFrame.\n",
      "Try using .loc[row_indexer,col_indexer] = value instead\n",
      "\n",
      "See the caveats in the documentation: https://pandas.pydata.org/pandas-docs/stable/user_guide/indexing.html#returning-a-view-versus-a-copy\n",
      "  self.obj[item] = s\n"
     ]
    },
    {
     "name": "stdout",
     "output_type": "stream",
     "text": [
      "Numeric Var\n",
      "Original Shape: 26\n",
      "After Handling Missing Values, Shape of df: (200000, 29)\n",
      "After Imputation Missing Values, Shape of df: (200000, 26)\n",
      "After Scaling Missing Values, Shape of df: (200000, 26)\n",
      "['ps_reg_03_miss', 'ps_car_11_miss', 'ps_car_14_miss']\n",
      "Final Missing + Imputing Values, Shape of df: (200000, 29)\n"
     ]
    }
   ],
   "source": [
    "num_tran = NumCustomTransformer()\n",
    "X = num_tran.fit_transform(train_full[fil_numeric_var])"
   ]
  },
  {
   "cell_type": "code",
   "execution_count": 121,
   "metadata": {},
   "outputs": [
    {
     "name": "stderr",
     "output_type": "stream",
     "text": [
      "C:\\Users\\mysel\\Anaconda3\\lib\\site-packages\\pandas\\core\\indexing.py:845: SettingWithCopyWarning: \n",
      "A value is trying to be set on a copy of a slice from a DataFrame.\n",
      "Try using .loc[row_indexer,col_indexer] = value instead\n",
      "\n",
      "See the caveats in the documentation: https://pandas.pydata.org/pandas-docs/stable/user_guide/indexing.html#returning-a-view-versus-a-copy\n",
      "  self.obj[key] = _infer_fill_value(value)\n",
      "C:\\Users\\mysel\\Anaconda3\\lib\\site-packages\\pandas\\core\\indexing.py:966: SettingWithCopyWarning: \n",
      "A value is trying to be set on a copy of a slice from a DataFrame.\n",
      "Try using .loc[row_indexer,col_indexer] = value instead\n",
      "\n",
      "See the caveats in the documentation: https://pandas.pydata.org/pandas-docs/stable/user_guide/indexing.html#returning-a-view-versus-a-copy\n",
      "  self.obj[item] = s\n"
     ]
    },
    {
     "name": "stdout",
     "output_type": "stream",
     "text": [
      "Numeric Var\n",
      "Original Shape: 26\n",
      "After Handling Missing Values, Shape of df: (95234, 29)\n",
      "After Imputation Missing Values, Shape of df: (95234, 26)\n",
      "After Scaling Missing Values, Shape of df: (95234, 26)\n",
      "['ps_reg_03_miss', 'ps_car_11_miss', 'ps_car_14_miss']\n",
      "Final Missing + Imputing Values, Shape of df: (95234, 29)\n"
     ]
    }
   ],
   "source": [
    "# num_tran = NumCustomTransformer()\n",
    "val_full.reset_index(drop=True, inplace=True)\n",
    "# val_full[fil_numeric_var]\n",
    "X_val = num_tran.transform(val_full[fil_numeric_var])"
   ]
  },
  {
   "cell_type": "code",
   "execution_count": 58,
   "metadata": {},
   "outputs": [],
   "source": [
    "class CatCustomTransformer(TransformerMixin):\n",
    "    def __init__(self):\n",
    "        self.feature_names = None\n",
    "        self.si = SimpleImputer(strategy='most_frequent')\n",
    "        self.one_enc = OneHotEncoder(drop='first')\n",
    "        pass\n",
    "\n",
    "    def fit(self, X):\n",
    "        na_val = X.isna().sum()\n",
    "        self.missing_cols = list(na_val[na_val > 0].index)\n",
    "        self.feature_names = X.columns\n",
    "        self.orig_columns = X.columns\n",
    "        X[self.orig_columns] = self.si.fit_transform(X)\n",
    "        self.one_enc.fit(X)\n",
    "        return self\n",
    "\n",
    "    def get_feature_names(self):\n",
    "        return self.feature_names\n",
    "\n",
    "    def transform(self, X):\n",
    "        self.feature_names = X.columns\n",
    "        print('Transform Method')\n",
    "#         Handle Missing Values\n",
    "        for col in self.missing_cols:\n",
    "            X[col + '_miss'] = X[col].isna().astype(int)\n",
    "        print(f'Cat Var\\nOriginal Shape: {len(self.feature_names)}')\n",
    "        self.feature_names = X.columns\n",
    "        print(f'After Handling Missing Values\\nOriginal Shape: {len(self.feature_names)}')\n",
    "\n",
    "#         Imputation\n",
    "        X[self.orig_columns] = self.si.transform(X[self.orig_columns])\n",
    "        print(f'After Handling Missing Values, Shape of df: {X.shape}')\n",
    "        \n",
    "#         Dummy Coding\n",
    "        X_enc = self.one_enc.transform(X[self.orig_columns])\n",
    "        print(f'After Dummy Encoding: {X_enc.shape}')\n",
    "\n",
    "        X_enc = pd.DataFrame(X_enc.toarray(), \n",
    "                             columns = self.one_enc.get_feature_names(self.orig_columns))\n",
    "        t = pd.concat([X_enc.reset_index(drop=True), \n",
    "                       X[list(map(lambda x: x + '_miss', self.missing_cols))].reset_index(drop=True)], \n",
    "                      axis = 1)\n",
    "        del X_enc\n",
    "        del X\n",
    "\n",
    "        print(f'After Dummy Coding Missing Values, Shape of df: {t.shape}')        \n",
    "        self.feature_names = t.columns\n",
    "        \n",
    "    \n",
    "        return t"
   ]
  },
  {
   "cell_type": "code",
   "execution_count": 123,
   "metadata": {
    "collapsed": true,
    "jupyter": {
     "outputs_hidden": true
    }
   },
   "outputs": [
    {
     "name": "stderr",
     "output_type": "stream",
     "text": [
      "C:\\Users\\mysel\\Anaconda3\\lib\\site-packages\\ipykernel_launcher.py:13: SettingWithCopyWarning: \n",
      "A value is trying to be set on a copy of a slice from a DataFrame.\n",
      "Try using .loc[row_indexer,col_indexer] = value instead\n",
      "\n",
      "See the caveats in the documentation: https://pandas.pydata.org/pandas-docs/stable/user_guide/indexing.html#returning-a-view-versus-a-copy\n",
      "  del sys.path[0]\n",
      "C:\\Users\\mysel\\Anaconda3\\lib\\site-packages\\pandas\\core\\frame.py:2969: SettingWithCopyWarning: \n",
      "A value is trying to be set on a copy of a slice from a DataFrame\n",
      "\n",
      "See the caveats in the documentation: https://pandas.pydata.org/pandas-docs/stable/user_guide/indexing.html#returning-a-view-versus-a-copy\n",
      "  self.loc._setitem_with_indexer((slice(None), indexer), value)\n",
      "C:\\Users\\mysel\\Anaconda3\\lib\\site-packages\\pandas\\core\\frame.py:2935: SettingWithCopyWarning: \n",
      "A value is trying to be set on a copy of a slice from a DataFrame\n",
      "\n",
      "See the caveats in the documentation: https://pandas.pydata.org/pandas-docs/stable/user_guide/indexing.html#returning-a-view-versus-a-copy\n",
      "  self._setitem_array(key, value)\n"
     ]
    },
    {
     "name": "stdout",
     "output_type": "stream",
     "text": [
      "Transform Method\n"
     ]
    },
    {
     "name": "stderr",
     "output_type": "stream",
     "text": [
      "C:\\Users\\mysel\\Anaconda3\\lib\\site-packages\\ipykernel_launcher.py:25: SettingWithCopyWarning: \n",
      "A value is trying to be set on a copy of a slice from a DataFrame.\n",
      "Try using .loc[row_indexer,col_indexer] = value instead\n",
      "\n",
      "See the caveats in the documentation: https://pandas.pydata.org/pandas-docs/stable/user_guide/indexing.html#returning-a-view-versus-a-copy\n"
     ]
    },
    {
     "name": "stdout",
     "output_type": "stream",
     "text": [
      "Cat Var\n",
      "Original Shape: 14\n",
      "After Handling Missing Values\n",
      "Original Shape: 22\n"
     ]
    },
    {
     "name": "stderr",
     "output_type": "stream",
     "text": [
      "C:\\Users\\mysel\\Anaconda3\\lib\\site-packages\\ipykernel_launcher.py:31: SettingWithCopyWarning: \n",
      "A value is trying to be set on a copy of a slice from a DataFrame.\n",
      "Try using .loc[row_indexer,col_indexer] = value instead\n",
      "\n",
      "See the caveats in the documentation: https://pandas.pydata.org/pandas-docs/stable/user_guide/indexing.html#returning-a-view-versus-a-copy\n",
      "C:\\Users\\mysel\\Anaconda3\\lib\\site-packages\\pandas\\core\\indexing.py:966: SettingWithCopyWarning: \n",
      "A value is trying to be set on a copy of a slice from a DataFrame.\n",
      "Try using .loc[row_indexer,col_indexer] = value instead\n",
      "\n",
      "See the caveats in the documentation: https://pandas.pydata.org/pandas-docs/stable/user_guide/indexing.html#returning-a-view-versus-a-copy\n",
      "  self.obj[item] = s\n"
     ]
    },
    {
     "name": "stdout",
     "output_type": "stream",
     "text": [
      "After Handling Missing Values, Shape of df: (200000, 22)\n",
      "After Dummy Encoding: (200000, 161)\n",
      "After Dummy Coding Missing Values, Shape of df: (200000, 169)\n"
     ]
    }
   ],
   "source": [
    "tran1 = CatCustomTransformer()\n",
    "train_full[cat_columns] = train_full[cat_columns].replace('nan', np.NaN)\n",
    "t = tran1.fit_transform(train_full[cat_columns])"
   ]
  },
  {
   "cell_type": "code",
   "execution_count": 125,
   "metadata": {
    "collapsed": true,
    "jupyter": {
     "outputs_hidden": true
    }
   },
   "outputs": [
    {
     "name": "stdout",
     "output_type": "stream",
     "text": [
      "Transform Method\n",
      "Cat Var\n",
      "Original Shape: 14\n",
      "After Handling Missing Values\n",
      "Original Shape: 22\n"
     ]
    },
    {
     "name": "stderr",
     "output_type": "stream",
     "text": [
      "C:\\Users\\mysel\\Anaconda3\\lib\\site-packages\\ipykernel_launcher.py:25: SettingWithCopyWarning: \n",
      "A value is trying to be set on a copy of a slice from a DataFrame.\n",
      "Try using .loc[row_indexer,col_indexer] = value instead\n",
      "\n",
      "See the caveats in the documentation: https://pandas.pydata.org/pandas-docs/stable/user_guide/indexing.html#returning-a-view-versus-a-copy\n",
      "C:\\Users\\mysel\\Anaconda3\\lib\\site-packages\\ipykernel_launcher.py:31: SettingWithCopyWarning: \n",
      "A value is trying to be set on a copy of a slice from a DataFrame.\n",
      "Try using .loc[row_indexer,col_indexer] = value instead\n",
      "\n",
      "See the caveats in the documentation: https://pandas.pydata.org/pandas-docs/stable/user_guide/indexing.html#returning-a-view-versus-a-copy\n",
      "C:\\Users\\mysel\\Anaconda3\\lib\\site-packages\\pandas\\core\\indexing.py:966: SettingWithCopyWarning: \n",
      "A value is trying to be set on a copy of a slice from a DataFrame.\n",
      "Try using .loc[row_indexer,col_indexer] = value instead\n",
      "\n",
      "See the caveats in the documentation: https://pandas.pydata.org/pandas-docs/stable/user_guide/indexing.html#returning-a-view-versus-a-copy\n",
      "  self.obj[item] = s\n"
     ]
    },
    {
     "name": "stdout",
     "output_type": "stream",
     "text": [
      "After Handling Missing Values, Shape of df: (95234, 22)\n",
      "After Dummy Encoding: (95234, 161)\n",
      "After Dummy Coding Missing Values, Shape of df: (95234, 169)\n"
     ]
    }
   ],
   "source": [
    "t = tran1.transform(val_full[cat_columns])"
   ]
  },
  {
   "cell_type": "code",
   "execution_count": 64,
   "metadata": {},
   "outputs": [],
   "source": [
    "class CreateMissingIndicators(TransformerMixin):\n",
    "    def __init__(self):\n",
    "        pass\n",
    "    def fit(self, X):\n",
    "        self.feature_names = X.columns\n",
    "        self.orig_cols = X.columns\n",
    "        navl = X.isna().sum()\n",
    "        self.missing_cols = list(navl[navl>0].index)\n",
    "        self.si = SimpleImputer(strategy='most_frequent').fit(X)\n",
    "        return self\n",
    "    def get_feature_names(self):\n",
    "        return self.feature_names\n",
    "    \n",
    "    def transform(self, X):\n",
    "        self.feature_names = X.columns\n",
    "        for col in self.missing_cols:\n",
    "            X[col + '_miss'] = X[col].isna().astype(int)\n",
    "        X_enc = self.si.transform(X[self.orig_cols])\n",
    "        X_enc = pd.DataFrame(X_enc, columns=self.orig_cols)\n",
    "        t = pd.concat([X_enc, X[list(map(lambda x: x + '_miss', self.missing_cols))].reset_index(drop=True)], axis=1)\n",
    "        self.feature_names = t.columns\n",
    "        return t"
   ]
  },
  {
   "cell_type": "code",
   "execution_count": 65,
   "metadata": {},
   "outputs": [
    {
     "data": {
      "text/html": [
       "<div>\n",
       "<style scoped>\n",
       "    .dataframe tbody tr th:only-of-type {\n",
       "        vertical-align: middle;\n",
       "    }\n",
       "\n",
       "    .dataframe tbody tr th {\n",
       "        vertical-align: top;\n",
       "    }\n",
       "\n",
       "    .dataframe thead th {\n",
       "        text-align: right;\n",
       "    }\n",
       "</style>\n",
       "<table border=\"1\" class=\"dataframe\">\n",
       "  <thead>\n",
       "    <tr style=\"text-align: right;\">\n",
       "      <th></th>\n",
       "      <th>ps_ind_06_bin</th>\n",
       "      <th>ps_ind_07_bin</th>\n",
       "      <th>ps_ind_08_bin</th>\n",
       "      <th>ps_ind_09_bin</th>\n",
       "      <th>ps_ind_10_bin</th>\n",
       "      <th>ps_ind_11_bin</th>\n",
       "      <th>ps_ind_12_bin</th>\n",
       "      <th>ps_ind_13_bin</th>\n",
       "      <th>ps_ind_16_bin</th>\n",
       "      <th>ps_ind_17_bin</th>\n",
       "      <th>ps_ind_18_bin</th>\n",
       "      <th>ps_calc_15_bin</th>\n",
       "      <th>ps_calc_16_bin</th>\n",
       "      <th>ps_calc_17_bin</th>\n",
       "      <th>ps_calc_18_bin</th>\n",
       "      <th>ps_calc_19_bin</th>\n",
       "      <th>ps_calc_20_bin</th>\n",
       "    </tr>\n",
       "  </thead>\n",
       "  <tbody>\n",
       "    <tr>\n",
       "      <th>0</th>\n",
       "      <td>1</td>\n",
       "      <td>0</td>\n",
       "      <td>0</td>\n",
       "      <td>0</td>\n",
       "      <td>0</td>\n",
       "      <td>0</td>\n",
       "      <td>0</td>\n",
       "      <td>0</td>\n",
       "      <td>1</td>\n",
       "      <td>0</td>\n",
       "      <td>0</td>\n",
       "      <td>0</td>\n",
       "      <td>1</td>\n",
       "      <td>0</td>\n",
       "      <td>0</td>\n",
       "      <td>0</td>\n",
       "      <td>0</td>\n",
       "    </tr>\n",
       "    <tr>\n",
       "      <th>1</th>\n",
       "      <td>1</td>\n",
       "      <td>0</td>\n",
       "      <td>0</td>\n",
       "      <td>0</td>\n",
       "      <td>0</td>\n",
       "      <td>0</td>\n",
       "      <td>0</td>\n",
       "      <td>0</td>\n",
       "      <td>1</td>\n",
       "      <td>0</td>\n",
       "      <td>0</td>\n",
       "      <td>0</td>\n",
       "      <td>0</td>\n",
       "      <td>0</td>\n",
       "      <td>0</td>\n",
       "      <td>1</td>\n",
       "      <td>1</td>\n",
       "    </tr>\n",
       "    <tr>\n",
       "      <th>2</th>\n",
       "      <td>1</td>\n",
       "      <td>0</td>\n",
       "      <td>0</td>\n",
       "      <td>0</td>\n",
       "      <td>0</td>\n",
       "      <td>0</td>\n",
       "      <td>0</td>\n",
       "      <td>0</td>\n",
       "      <td>0</td>\n",
       "      <td>1</td>\n",
       "      <td>0</td>\n",
       "      <td>0</td>\n",
       "      <td>0</td>\n",
       "      <td>1</td>\n",
       "      <td>1</td>\n",
       "      <td>0</td>\n",
       "      <td>1</td>\n",
       "    </tr>\n",
       "    <tr>\n",
       "      <th>3</th>\n",
       "      <td>1</td>\n",
       "      <td>0</td>\n",
       "      <td>0</td>\n",
       "      <td>0</td>\n",
       "      <td>0</td>\n",
       "      <td>0</td>\n",
       "      <td>0</td>\n",
       "      <td>0</td>\n",
       "      <td>1</td>\n",
       "      <td>0</td>\n",
       "      <td>0</td>\n",
       "      <td>0</td>\n",
       "      <td>1</td>\n",
       "      <td>1</td>\n",
       "      <td>0</td>\n",
       "      <td>0</td>\n",
       "      <td>0</td>\n",
       "    </tr>\n",
       "    <tr>\n",
       "      <th>4</th>\n",
       "      <td>0</td>\n",
       "      <td>0</td>\n",
       "      <td>0</td>\n",
       "      <td>1</td>\n",
       "      <td>0</td>\n",
       "      <td>0</td>\n",
       "      <td>0</td>\n",
       "      <td>0</td>\n",
       "      <td>1</td>\n",
       "      <td>0</td>\n",
       "      <td>0</td>\n",
       "      <td>0</td>\n",
       "      <td>1</td>\n",
       "      <td>1</td>\n",
       "      <td>0</td>\n",
       "      <td>0</td>\n",
       "      <td>0</td>\n",
       "    </tr>\n",
       "  </tbody>\n",
       "</table>\n",
       "</div>"
      ],
      "text/plain": [
       "   ps_ind_06_bin  ps_ind_07_bin  ps_ind_08_bin  ps_ind_09_bin  ps_ind_10_bin  \\\n",
       "0              1              0              0              0              0   \n",
       "1              1              0              0              0              0   \n",
       "2              1              0              0              0              0   \n",
       "3              1              0              0              0              0   \n",
       "4              0              0              0              1              0   \n",
       "\n",
       "   ps_ind_11_bin  ps_ind_12_bin  ps_ind_13_bin  ps_ind_16_bin  ps_ind_17_bin  \\\n",
       "0              0              0              0              1              0   \n",
       "1              0              0              0              1              0   \n",
       "2              0              0              0              0              1   \n",
       "3              0              0              0              1              0   \n",
       "4              0              0              0              1              0   \n",
       "\n",
       "   ps_ind_18_bin  ps_calc_15_bin  ps_calc_16_bin  ps_calc_17_bin  \\\n",
       "0              0               0               1               0   \n",
       "1              0               0               0               0   \n",
       "2              0               0               0               1   \n",
       "3              0               0               1               1   \n",
       "4              0               0               1               1   \n",
       "\n",
       "   ps_calc_18_bin  ps_calc_19_bin  ps_calc_20_bin  \n",
       "0               0               0               0  \n",
       "1               0               1               1  \n",
       "2               1               0               1  \n",
       "3               0               0               0  \n",
       "4               0               0               0  "
      ]
     },
     "execution_count": 65,
     "metadata": {},
     "output_type": "execute_result"
    }
   ],
   "source": [
    "cmi = CreateMissingIndicators()\n",
    "X = cmi.fit_transform(train_full[bin_columns].replace('nan', np.NaN))\n",
    "X.head()"
   ]
  },
  {
   "cell_type": "code",
   "execution_count": 66,
   "metadata": {},
   "outputs": [],
   "source": [
    "\n",
    "si = SimpleImputer(missing_values=np.nan, strategy='median')\n",
    "\n",
    "num_pipeline = Pipeline([\n",
    "    ('num_handling', NumCustomTransformer())\n",
    "])\n",
    "\n",
    "cat_pipeline = Pipeline([\n",
    "    ('cat_handling', CatCustomTransformer())\n",
    "])\n",
    "\n",
    "bin_pipeline = Pipeline([\n",
    "    ('bin_missing', CreateMissingIndicators())\n",
    "#     ,('bin_imputer', SimpleImputer(strategy='most_frequent'))\n",
    "])\n",
    "\n",
    "steps = ColumnTransformer([\n",
    "            ('num_pipeline', num_pipeline, fil_numeric_var)\n",
    "            ,('cat_pipleine', cat_pipeline, fil_cat_columns)\n",
    "            ,('bin_pipeline', bin_pipeline, fil_bin_columns)\n",
    "        ])"
   ]
  },
  {
   "cell_type": "code",
   "execution_count": 507,
   "metadata": {},
   "outputs": [
    {
     "data": {
      "text/plain": [
       "(95234, 59)"
      ]
     },
     "execution_count": 507,
     "metadata": {},
     "output_type": "execute_result"
    }
   ],
   "source": [
    "full_val = pd.concat([X_val, y_val], axis=1)\n",
    "full_val.shape"
   ]
  },
  {
   "cell_type": "code",
   "execution_count": 128,
   "metadata": {},
   "outputs": [
    {
     "name": "stdout",
     "output_type": "stream",
     "text": [
      "Numeric Var\n",
      "Original Shape: 26\n",
      "After Handling Missing Values, Shape of df: (200000, 29)\n",
      "After Imputation Missing Values, Shape of df: (200000, 26)\n",
      "After Scaling Missing Values, Shape of df: (200000, 26)\n",
      "['ps_reg_03_miss', 'ps_car_11_miss', 'ps_car_14_miss']\n",
      "Final Missing + Imputing Values, Shape of df: (200000, 29)\n",
      "Transform Method\n",
      "Cat Var\n",
      "Original Shape: 13\n",
      "After Handling Missing Values\n",
      "Original Shape: 21\n",
      "After Handling Missing Values, Shape of df: (200000, 21)\n",
      "After Dummy Encoding: (200000, 159)\n",
      "After Dummy Coding Missing Values, Shape of df: (200000, 167)\n"
     ]
    }
   ],
   "source": [
    "train_full[fil_cat_columns] = train_full[fil_cat_columns].replace('nan', np.NaN)\n",
    "X_train_trans = steps.fit_transform(train_full)\n",
    "# X_val_trans = steps.fit_transform(X_val.reset_index())"
   ]
  },
  {
   "cell_type": "code",
   "execution_count": 75,
   "metadata": {},
   "outputs": [
    {
     "name": "stdout",
     "output_type": "stream",
     "text": [
      "207 (200000, 207)\n"
     ]
    }
   ],
   "source": [
    "num_trans_cols = list(steps.named_transformers_['num_pipeline'].named_steps['num_handling'].get_feature_names())\n",
    "cat_trans_cols = list(steps.named_transformers_['cat_pipleine'].named_steps['cat_handling'].get_feature_names())\n",
    "bin_trans_cols = list(steps.named_transformers_['bin_pipeline'].named_steps['bin_missing'].get_feature_names())\n",
    "\n",
    "trans_cols = num_trans_cols + cat_trans_cols + bin_trans_cols\n",
    "\n",
    "print(len(trans_cols), X_train_trans.shape)"
   ]
  },
  {
   "cell_type": "code",
   "execution_count": 130,
   "metadata": {},
   "outputs": [
    {
     "name": "stdout",
     "output_type": "stream",
     "text": [
      "Numeric Var\n",
      "Original Shape: 26\n",
      "After Handling Missing Values, Shape of df: (95234, 29)\n",
      "After Imputation Missing Values, Shape of df: (95234, 26)\n",
      "After Scaling Missing Values, Shape of df: (95234, 26)\n",
      "['ps_reg_03_miss', 'ps_car_11_miss', 'ps_car_14_miss']\n",
      "Final Missing + Imputing Values, Shape of df: (95234, 29)\n",
      "Transform Method\n",
      "Cat Var\n",
      "Original Shape: 13\n",
      "After Handling Missing Values\n",
      "Original Shape: 21\n",
      "After Handling Missing Values, Shape of df: (95234, 21)\n",
      "After Dummy Encoding: (95234, 159)\n",
      "After Dummy Coding Missing Values, Shape of df: (95234, 167)\n",
      "Numeric Var\n",
      "Original Shape: 26\n",
      "After Handling Missing Values, Shape of df: (119043, 29)\n",
      "After Imputation Missing Values, Shape of df: (119043, 26)\n",
      "After Scaling Missing Values, Shape of df: (119043, 26)\n",
      "['ps_reg_03_miss', 'ps_car_11_miss', 'ps_car_14_miss']\n",
      "Final Missing + Imputing Values, Shape of df: (119043, 29)\n",
      "Transform Method\n",
      "Cat Var\n",
      "Original Shape: 13\n",
      "After Handling Missing Values\n",
      "Original Shape: 21\n",
      "After Handling Missing Values, Shape of df: (119043, 21)\n",
      "After Dummy Encoding: (119043, 159)\n",
      "After Dummy Coding Missing Values, Shape of df: (119043, 167)\n"
     ]
    }
   ],
   "source": [
    "val_full[fil_cat_columns] = val_full[fil_cat_columns].replace('nan', np.NaN)\n",
    "test_full[fil_cat_columns] = val_full[fil_cat_columns].replace('nan', np.NaN)\n",
    "\n",
    "val_full[fil_bin_columns] = val_full[fil_bin_columns].dropna()\n",
    "test_full[fil_bin_columns] = test_full[fil_bin_columns].dropna()\n",
    "\n",
    "X_val_trans = steps.transform(val_full.reset_index(drop=True))\n",
    "X_test_trans = steps.transform(test_full.reset_index(drop=True))"
   ]
  },
  {
   "cell_type": "code",
   "execution_count": 69,
   "metadata": {},
   "outputs": [
    {
     "data": {
      "text/plain": [
       "((200000, 205), 5.3230099791384085, 14.317821063276353)"
      ]
     },
     "execution_count": 69,
     "metadata": {},
     "output_type": "execute_result"
    }
   ],
   "source": [
    "#Max Features for Random Forest. log, and sqrt of total feature\n",
    "X_train_trans.shape, np.log(X_train_trans.shape[1]), np.sqrt(X_train_trans.shape[1])"
   ]
  },
  {
   "cell_type": "code",
   "execution_count": 193,
   "metadata": {},
   "outputs": [],
   "source": [
    "from sklearn.ensemble import RandomForestClassifier\n",
    "from sklearn import metrics\n",
    "from sklearn.metrics import roc_auc_score, accuracy_score, f1_score\n",
    "from sklearn.model_selection import RandomizedSearchCV\n",
    "\n",
    "param_grid = {'max_depth': [3,5,7,9], 'max_features' : [5, 10, 15], 'n_estimators' : [50, 100, 125, 150, 200], \n",
    "          'max_leaf_nodes':[8, 16, 50, None], 'criterion':['gini', 'entropy']}\n",
    "\n",
    "forest1 = RandomForestClassifier(n_estimators = 150, max_features=10, oob_score=True, n_jobs=-1)\n",
    "rcv = RandomizedSearchCV(forest1, param_grid, scoring=['roc_auc', 'accuracy', 'f1'], refit=False)\n",
    "\n",
    "# forest1.fit(X_train_trans, y_train)"
   ]
  },
  {
   "cell_type": "code",
   "execution_count": 194,
   "metadata": {},
   "outputs": [
    {
     "data": {
      "text/plain": [
       "RandomizedSearchCV(cv=None, error_score=nan,\n",
       "                   estimator=RandomForestClassifier(bootstrap=True,\n",
       "                                                    ccp_alpha=0.0,\n",
       "                                                    class_weight=None,\n",
       "                                                    criterion='gini',\n",
       "                                                    max_depth=None,\n",
       "                                                    max_features=10,\n",
       "                                                    max_leaf_nodes=None,\n",
       "                                                    max_samples=None,\n",
       "                                                    min_impurity_decrease=0.0,\n",
       "                                                    min_impurity_split=None,\n",
       "                                                    min_samples_leaf=1,\n",
       "                                                    min_samples_split=2,\n",
       "                                                    min_weight_fraction_leaf=0.0,\n",
       "                                                    n_estimators=150, n_jobs=...\n",
       "                                                    warm_start=False),\n",
       "                   iid='deprecated', n_iter=10, n_jobs=None,\n",
       "                   param_distributions={'criterion': ['gini', 'entropy'],\n",
       "                                        'max_depth': [3, 5, 7, 9],\n",
       "                                        'max_features': [5, 10, 15],\n",
       "                                        'max_leaf_nodes': [8, 16, 50, None],\n",
       "                                        'n_estimators': [50, 100, 125, 150,\n",
       "                                                         200]},\n",
       "                   pre_dispatch='2*n_jobs', random_state=None, refit=False,\n",
       "                   return_train_score=False,\n",
       "                   scoring=['roc_auc', 'accuracy', 'f1'], verbose=0)"
      ]
     },
     "execution_count": 194,
     "metadata": {},
     "output_type": "execute_result"
    }
   ],
   "source": [
    "rcv.fit(X_train_trans, y_train)"
   ]
  },
  {
   "cell_type": "code",
   "execution_count": 230,
   "metadata": {},
   "outputs": [
    {
     "name": "stdout",
     "output_type": "stream",
     "text": [
      "                                              params  accuracy       auc  \\\n",
      "0  {'n_estimators': 100, 'max_leaf_nodes': 16, 'm...  0.587425  0.624015   \n",
      "1  {'n_estimators': 150, 'max_leaf_nodes': 8, 'ma...  0.584305  0.619304   \n",
      "2  {'n_estimators': 150, 'max_leaf_nodes': 50, 'm...  0.590850  0.627499   \n",
      "3  {'n_estimators': 50, 'max_leaf_nodes': 8, 'max...  0.585010  0.618520   \n",
      "4  {'n_estimators': 125, 'max_leaf_nodes': None, ...  0.604035  0.648802   \n",
      "\n",
      "         f1  \n",
      "0  0.586495  \n",
      "1  0.577856  \n",
      "2  0.582343  \n",
      "3  0.578510  \n",
      "4  0.601418  \n",
      "Best Estimator{'n_estimators': 100, 'max_leaf_nodes': 16, 'max_features': 15, 'max_depth': 7, 'criterion': 'gini'}\n",
      "accuracy    0.587425\n",
      "auc         0.624015\n",
      "f1          0.586495\n",
      "Name: 0, dtype: object\n"
     ]
    }
   ],
   "source": [
    "t = pd.DataFrame(list(zip(rcv.cv_results_['params'], rcv.cv_results_['mean_test_accuracy'], rcv.cv_results_['mean_test_roc_auc'], rcv.cv_results_['mean_test_f1'])), columns=['params', 'accuracy', 'auc', 'f1'])\n",
    "print(t.head())\n",
    "t.sort_values(by=['auc'], ascending=False)\n",
    "best_forest = t.iloc[0,0]\n",
    "print(f'Best Estimator{t.iloc[0,0]}')\n",
    "print(t.iloc[0,1:])"
   ]
  },
  {
   "cell_type": "code",
   "execution_count": 224,
   "metadata": {},
   "outputs": [
    {
     "data": {
      "text/plain": [
       "RandomForestClassifier(bootstrap=True, ccp_alpha=0.0, class_weight=None,\n",
       "                       criterion='gini', max_depth=7, max_features=15,\n",
       "                       max_leaf_nodes=16, max_samples=None,\n",
       "                       min_impurity_decrease=0.0, min_impurity_split=None,\n",
       "                       min_samples_leaf=1, min_samples_split=2,\n",
       "                       min_weight_fraction_leaf=0.0, n_estimators=100,\n",
       "                       n_jobs=None, oob_score=False, random_state=None,\n",
       "                       verbose=0, warm_start=False)"
      ]
     },
     "execution_count": 224,
     "metadata": {},
     "output_type": "execute_result"
    }
   ],
   "source": [
    "forest1 = RandomForestClassifier(n_estimators=100, max_leaf_nodes=16, max_features=15, max_depth=7, criterion='gini')\n",
    "forest1.fit(X_train_trans, y_train)"
   ]
  },
  {
   "cell_type": "code",
   "execution_count": 225,
   "metadata": {},
   "outputs": [],
   "source": [
    "rsq1 = forest1.score(X_train_trans, y_train)\n",
    "rsq2 = forest1.score(X_test_trans, y_test)\n",
    "\n",
    "pred1 = forest1.predict_proba(X_train_trans)[:, 1]\n",
    "pred2 = forest1.predict_proba(X_test_trans)[:, 1]"
   ]
  },
  {
   "cell_type": "code",
   "execution_count": 226,
   "metadata": {},
   "outputs": [
    {
     "name": "stdout",
     "output_type": "stream",
     "text": [
      "(207, 2)\n"
     ]
    },
    {
     "data": {
      "text/html": [
       "<div>\n",
       "<style scoped>\n",
       "    .dataframe tbody tr th:only-of-type {\n",
       "        vertical-align: middle;\n",
       "    }\n",
       "\n",
       "    .dataframe tbody tr th {\n",
       "        vertical-align: top;\n",
       "    }\n",
       "\n",
       "    .dataframe thead th {\n",
       "        text-align: right;\n",
       "    }\n",
       "</style>\n",
       "<table border=\"1\" class=\"dataframe\">\n",
       "  <thead>\n",
       "    <tr style=\"text-align: right;\">\n",
       "      <th></th>\n",
       "      <th>col</th>\n",
       "      <th>importance</th>\n",
       "    </tr>\n",
       "  </thead>\n",
       "  <tbody>\n",
       "    <tr>\n",
       "      <th>9</th>\n",
       "      <td>ps_car_13</td>\n",
       "      <td>0.153823</td>\n",
       "    </tr>\n",
       "    <tr>\n",
       "      <th>197</th>\n",
       "      <td>ps_ind_07_bin</td>\n",
       "      <td>0.074113</td>\n",
       "    </tr>\n",
       "    <tr>\n",
       "      <th>196</th>\n",
       "      <td>ps_ind_06_bin</td>\n",
       "      <td>0.073702</td>\n",
       "    </tr>\n",
       "    <tr>\n",
       "      <th>204</th>\n",
       "      <td>ps_ind_17_bin</td>\n",
       "      <td>0.071272</td>\n",
       "    </tr>\n",
       "    <tr>\n",
       "      <th>6</th>\n",
       "      <td>ps_reg_03</td>\n",
       "      <td>0.069049</td>\n",
       "    </tr>\n",
       "  </tbody>\n",
       "</table>\n",
       "</div>"
      ],
      "text/plain": [
       "               col  importance\n",
       "9        ps_car_13    0.153823\n",
       "197  ps_ind_07_bin    0.074113\n",
       "196  ps_ind_06_bin    0.073702\n",
       "204  ps_ind_17_bin    0.071272\n",
       "6        ps_reg_03    0.069049"
      ]
     },
     "execution_count": 226,
     "metadata": {},
     "output_type": "execute_result"
    }
   ],
   "source": [
    "imp = pd.DataFrame(list(zip(trans_cols, forest1.feature_importances_)), columns=['col', 'importance'])\n",
    "imp = imp.sort_values(by='importance', ascending=False)\n",
    "print(imp.shape)\n",
    "imp.head()\n"
   ]
  },
  {
   "cell_type": "code",
   "execution_count": 227,
   "metadata": {},
   "outputs": [
    {
     "name": "stdout",
     "output_type": "stream",
     "text": [
      "Train: R-square0.587505, auc: 0.6249125253000001\n",
      "Test: R-square0.562905840746621, auc: 0.613354345037445\n"
     ]
    }
   ],
   "source": [
    "auc1 = roc_auc_score(y_train, pred1)\n",
    "auc2 = roc_auc_score(y_test, pred2)\n",
    "\n",
    "print(f'Train: R-square{rsq1}, auc: {auc1}')\n",
    "print(f'Test: R-square{rsq2}, auc: {auc2}')\n"
   ]
  },
  {
   "cell_type": "code",
   "execution_count": 228,
   "metadata": {},
   "outputs": [
    {
     "data": {
      "image/png": "[encoded data removed]",
      "text/plain": [
       "<Figure size 432x288 with 1 Axes>"
      ]
     },
     "metadata": {
      "needs_background": "light"
     },
     "output_type": "display_data"
    }
   ],
   "source": [
    "from sklearn.metrics import roc_curve\n",
    "\n",
    "fpr, tpr, _ = roc_curve(y_test, pred2)\n",
    "auc = roc_auc_score(y_train, pred1)\n",
    "plt.plot(fpr, tpr, label=\"data 1, auc=\"+str(auc2))\n",
    "plt.legend(loc=4)\n",
    "plt.show()"
   ]
  },
  {
   "cell_type": "markdown",
   "metadata": {},
   "source": [
    "Thank You. \n",
    "Ill be trying few more models using same data later. "
   ]
  }
 ],
 "metadata": {
  "kernelspec": {
   "display_name": "Python 3",
   "language": "python",
   "name": "python3"
  },
  "language_info": {
   "codemirror_mode": {
    "name": "ipython",
    "version": 3
   },
   "file_extension": ".py",
   "mimetype": "text/x-python",
   "name": "python",
   "nbconvert_exporter": "python",
   "pygments_lexer": "ipython3",
   "version": "3.7.3"
  }
 },
 "nbformat": 4,
 "nbformat_minor": 4
}
